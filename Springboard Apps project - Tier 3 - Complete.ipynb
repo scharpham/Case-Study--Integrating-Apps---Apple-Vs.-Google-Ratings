{
 "cells": [
  {
   "cell_type": "markdown",
   "metadata": {
    "colab_type": "text",
    "id": "i2RUFW7TFcuh"
   },
   "source": [
    "# Springboard Apps project - Tier 3 - Complete\n",
    "\n",
    "Welcome to the Apps project! To give you a taste of your future career, we're going to walk through exactly the kind of notebook that you'd write as a data scientist. In the process, we'll be sure to signpost the general framework for our investigation - the Data Science Pipeline - as well as give reasons for why we're doing what we're doing. We're also going to apply some of the skills and knowledge you've built up in the previous unit when reading Professor Spiegelhalter's *The Art of Statistics* (hereinafter *AoS*). \n",
    "\n",
    "So let's get cracking!\n",
    "\n",
    "**Brief**\n",
    "\n",
    "Did Apple Store apps receive better reviews than Google Play apps?\n",
    "\n",
    "## Stages of the project\n",
    "\n",
    "1. Sourcing and loading \n",
    "    * Load the two datasets\n",
    "    * Pick the columns that we are going to work with \n",
    "    * Subsetting the data on this basis \n",
    " \n",
    " \n",
    "2. Cleaning, transforming and visualizing\n",
    "    * Check the data types and fix them\n",
    "    * Add a `platform` column to both the `Apple` and the `Google` dataframes\n",
    "    * Changing the column names to prepare for a join \n",
    "    * Join the two data sets\n",
    "    * Eliminate the `NaN` values\n",
    "    * Filter only those apps that have been reviewed at least once\n",
    "    * Summarize the data visually and analytically (by the column `platform`)  \n",
    "  \n",
    "  \n",
    "3. Modelling \n",
    "    * Hypothesis formulation\n",
    "    * Getting the distribution of the data\n",
    "    * Permutation test \n",
    "\n",
    "\n",
    "4. Evaluating and concluding \n",
    "    * What is our conclusion?\n",
    "    * What is our decision?\n",
    "    * Other models we could have used. \n",
    "    "
   ]
  },
  {
   "cell_type": "markdown",
   "metadata": {
    "colab_type": "text",
    "id": "QLUAXtl1Fcuk"
   },
   "source": [
    "## Importing the libraries\n",
    "\n",
    "In this case we are going to import pandas, numpy, scipy, random and matplotlib.pyplot"
   ]
  },
  {
   "cell_type": "code",
   "execution_count": 46,
   "metadata": {
    "colab": {},
    "colab_type": "code",
    "id": "XeXJOlGiFcum"
   },
   "outputs": [],
   "source": [
    "import pandas as pd\n",
    "import numpy as np\n",
    "import matplotlib.pyplot as plt\n",
    "# scipi is a library for statistical tests and visualizations \n",
    "from scipy import stats\n",
    "# random enables us to generate random numbers\n",
    "import random"
   ]
  },
  {
   "cell_type": "markdown",
   "metadata": {
    "colab_type": "text",
    "id": "zVD7NlPAFcup"
   },
   "source": [
    "## Stage 1 -  Sourcing and loading data"
   ]
  },
  {
   "cell_type": "markdown",
   "metadata": {
    "colab_type": "text",
    "id": "KU8bdbImFcuq"
   },
   "source": [
    "### 1a. Source and load the data\n",
    "Let's download the data from Kaggle. Kaggle is a fantastic resource: a kind of social medium for data scientists, it boasts projects, datasets and news on the freshest libraries and technologies all in one place. The data from the Apple Store can be found [here](https://www.kaggle.com/ramamet4/app-store-apple-data-set-10k-apps) and the data from Google Store can be found [here](https://www.kaggle.com/lava18/google-play-store-apps).\n",
    "Download the datasets and save them in your working directory."
   ]
  },
  {
   "cell_type": "code",
   "execution_count": 47,
   "metadata": {
    "colab": {},
    "colab_type": "code",
    "id": "laM1PB76Fcur"
   },
   "outputs": [
    {
     "data": {
      "text/html": [
       "<div>\n",
       "<style scoped>\n",
       "    .dataframe tbody tr th:only-of-type {\n",
       "        vertical-align: middle;\n",
       "    }\n",
       "\n",
       "    .dataframe tbody tr th {\n",
       "        vertical-align: top;\n",
       "    }\n",
       "\n",
       "    .dataframe thead th {\n",
       "        text-align: right;\n",
       "    }\n",
       "</style>\n",
       "<table border=\"1\" class=\"dataframe\">\n",
       "  <thead>\n",
       "    <tr style=\"text-align: right;\">\n",
       "      <th></th>\n",
       "      <th>App</th>\n",
       "      <th>Category</th>\n",
       "      <th>Rating</th>\n",
       "      <th>Reviews</th>\n",
       "      <th>Size</th>\n",
       "      <th>Installs</th>\n",
       "      <th>Type</th>\n",
       "      <th>Price</th>\n",
       "      <th>Content Rating</th>\n",
       "      <th>Genres</th>\n",
       "      <th>Last Updated</th>\n",
       "      <th>Current Ver</th>\n",
       "      <th>Android Ver</th>\n",
       "    </tr>\n",
       "  </thead>\n",
       "  <tbody>\n",
       "    <tr>\n",
       "      <th>0</th>\n",
       "      <td>Photo Editor &amp; Candy Camera &amp; Grid &amp; ScrapBook</td>\n",
       "      <td>ART_AND_DESIGN</td>\n",
       "      <td>4.1</td>\n",
       "      <td>159</td>\n",
       "      <td>19M</td>\n",
       "      <td>10,000+</td>\n",
       "      <td>Free</td>\n",
       "      <td>0</td>\n",
       "      <td>Everyone</td>\n",
       "      <td>Art &amp; Design</td>\n",
       "      <td>January 7, 2018</td>\n",
       "      <td>1.0.0</td>\n",
       "      <td>4.0.3 and up</td>\n",
       "    </tr>\n",
       "    <tr>\n",
       "      <th>1</th>\n",
       "      <td>Coloring book moana</td>\n",
       "      <td>ART_AND_DESIGN</td>\n",
       "      <td>3.9</td>\n",
       "      <td>967</td>\n",
       "      <td>14M</td>\n",
       "      <td>500,000+</td>\n",
       "      <td>Free</td>\n",
       "      <td>0</td>\n",
       "      <td>Everyone</td>\n",
       "      <td>Art &amp; Design;Pretend Play</td>\n",
       "      <td>January 15, 2018</td>\n",
       "      <td>2.0.0</td>\n",
       "      <td>4.0.3 and up</td>\n",
       "    </tr>\n",
       "    <tr>\n",
       "      <th>2</th>\n",
       "      <td>U Launcher Lite – FREE Live Cool Themes, Hide ...</td>\n",
       "      <td>ART_AND_DESIGN</td>\n",
       "      <td>4.7</td>\n",
       "      <td>87510</td>\n",
       "      <td>8.7M</td>\n",
       "      <td>5,000,000+</td>\n",
       "      <td>Free</td>\n",
       "      <td>0</td>\n",
       "      <td>Everyone</td>\n",
       "      <td>Art &amp; Design</td>\n",
       "      <td>August 1, 2018</td>\n",
       "      <td>1.2.4</td>\n",
       "      <td>4.0.3 and up</td>\n",
       "    </tr>\n",
       "  </tbody>\n",
       "</table>\n",
       "</div>"
      ],
      "text/plain": [
       "                                                 App        Category  Rating  \\\n",
       "0     Photo Editor & Candy Camera & Grid & ScrapBook  ART_AND_DESIGN     4.1   \n",
       "1                                Coloring book moana  ART_AND_DESIGN     3.9   \n",
       "2  U Launcher Lite – FREE Live Cool Themes, Hide ...  ART_AND_DESIGN     4.7   \n",
       "\n",
       "  Reviews  Size    Installs  Type Price Content Rating  \\\n",
       "0     159   19M     10,000+  Free     0       Everyone   \n",
       "1     967   14M    500,000+  Free     0       Everyone   \n",
       "2   87510  8.7M  5,000,000+  Free     0       Everyone   \n",
       "\n",
       "                      Genres      Last Updated Current Ver   Android Ver  \n",
       "0               Art & Design   January 7, 2018       1.0.0  4.0.3 and up  \n",
       "1  Art & Design;Pretend Play  January 15, 2018       2.0.0  4.0.3 and up  \n",
       "2               Art & Design    August 1, 2018       1.2.4  4.0.3 and up  "
      ]
     },
     "execution_count": 47,
     "metadata": {},
     "output_type": "execute_result"
    }
   ],
   "source": [
    "# Now that the files are saved, we want to load them into Python using read_csv and pandas.\n",
    "\n",
    "# Create a variable called google, and store in it the path of the csv file that contains your google dataset. \n",
    "# If your dataset is in the same folder as this notebook, the path will simply be the name of the file. \n",
    "google= 'googleplaystore.csv'\n",
    "\n",
    "# Read the csv file into a data frame called Google using the read_csv() pandas method.\n",
    "Google= pd.read_csv(google)\n",
    "\n",
    "# Using the head() pandas method, observe the first three entries.\n",
    "Google.head(3)"
   ]
  },
  {
   "cell_type": "code",
   "execution_count": 48,
   "metadata": {
    "colab": {},
    "colab_type": "code",
    "id": "3AW8EA1wFcuu"
   },
   "outputs": [
    {
     "data": {
      "text/html": [
       "<div>\n",
       "<style scoped>\n",
       "    .dataframe tbody tr th:only-of-type {\n",
       "        vertical-align: middle;\n",
       "    }\n",
       "\n",
       "    .dataframe tbody tr th {\n",
       "        vertical-align: top;\n",
       "    }\n",
       "\n",
       "    .dataframe thead th {\n",
       "        text-align: right;\n",
       "    }\n",
       "</style>\n",
       "<table border=\"1\" class=\"dataframe\">\n",
       "  <thead>\n",
       "    <tr style=\"text-align: right;\">\n",
       "      <th></th>\n",
       "      <th>Unnamed: 0</th>\n",
       "      <th>id</th>\n",
       "      <th>track_name</th>\n",
       "      <th>size_bytes</th>\n",
       "      <th>currency</th>\n",
       "      <th>price</th>\n",
       "      <th>rating_count_tot</th>\n",
       "      <th>rating_count_ver</th>\n",
       "      <th>user_rating</th>\n",
       "      <th>user_rating_ver</th>\n",
       "      <th>ver</th>\n",
       "      <th>cont_rating</th>\n",
       "      <th>prime_genre</th>\n",
       "      <th>sup_devices.num</th>\n",
       "      <th>ipadSc_urls.num</th>\n",
       "      <th>lang.num</th>\n",
       "      <th>vpp_lic</th>\n",
       "    </tr>\n",
       "  </thead>\n",
       "  <tbody>\n",
       "    <tr>\n",
       "      <th>0</th>\n",
       "      <td>1</td>\n",
       "      <td>281656475</td>\n",
       "      <td>PAC-MAN Premium</td>\n",
       "      <td>100788224</td>\n",
       "      <td>USD</td>\n",
       "      <td>3.99</td>\n",
       "      <td>21292</td>\n",
       "      <td>26</td>\n",
       "      <td>4.0</td>\n",
       "      <td>4.5</td>\n",
       "      <td>6.3.5</td>\n",
       "      <td>4+</td>\n",
       "      <td>Games</td>\n",
       "      <td>38</td>\n",
       "      <td>5</td>\n",
       "      <td>10</td>\n",
       "      <td>1</td>\n",
       "    </tr>\n",
       "    <tr>\n",
       "      <th>1</th>\n",
       "      <td>2</td>\n",
       "      <td>281796108</td>\n",
       "      <td>Evernote - stay organized</td>\n",
       "      <td>158578688</td>\n",
       "      <td>USD</td>\n",
       "      <td>0.00</td>\n",
       "      <td>161065</td>\n",
       "      <td>26</td>\n",
       "      <td>4.0</td>\n",
       "      <td>3.5</td>\n",
       "      <td>8.2.2</td>\n",
       "      <td>4+</td>\n",
       "      <td>Productivity</td>\n",
       "      <td>37</td>\n",
       "      <td>5</td>\n",
       "      <td>23</td>\n",
       "      <td>1</td>\n",
       "    </tr>\n",
       "    <tr>\n",
       "      <th>2</th>\n",
       "      <td>3</td>\n",
       "      <td>281940292</td>\n",
       "      <td>WeatherBug - Local Weather, Radar, Maps, Alerts</td>\n",
       "      <td>100524032</td>\n",
       "      <td>USD</td>\n",
       "      <td>0.00</td>\n",
       "      <td>188583</td>\n",
       "      <td>2822</td>\n",
       "      <td>3.5</td>\n",
       "      <td>4.5</td>\n",
       "      <td>5.0.0</td>\n",
       "      <td>4+</td>\n",
       "      <td>Weather</td>\n",
       "      <td>37</td>\n",
       "      <td>5</td>\n",
       "      <td>3</td>\n",
       "      <td>1</td>\n",
       "    </tr>\n",
       "  </tbody>\n",
       "</table>\n",
       "</div>"
      ],
      "text/plain": [
       "   Unnamed: 0         id                                       track_name  \\\n",
       "0           1  281656475                                  PAC-MAN Premium   \n",
       "1           2  281796108                        Evernote - stay organized   \n",
       "2           3  281940292  WeatherBug - Local Weather, Radar, Maps, Alerts   \n",
       "\n",
       "   size_bytes currency  price  rating_count_tot  rating_count_ver  \\\n",
       "0   100788224      USD   3.99             21292                26   \n",
       "1   158578688      USD   0.00            161065                26   \n",
       "2   100524032      USD   0.00            188583              2822   \n",
       "\n",
       "   user_rating  user_rating_ver    ver cont_rating   prime_genre  \\\n",
       "0          4.0              4.5  6.3.5          4+         Games   \n",
       "1          4.0              3.5  8.2.2          4+  Productivity   \n",
       "2          3.5              4.5  5.0.0          4+       Weather   \n",
       "\n",
       "   sup_devices.num  ipadSc_urls.num  lang.num  vpp_lic  \n",
       "0               38                5        10        1  \n",
       "1               37                5        23        1  \n",
       "2               37                5         3        1  "
      ]
     },
     "execution_count": 48,
     "metadata": {},
     "output_type": "execute_result"
    }
   ],
   "source": [
    "# Create a variable called apple, and store in it the path of the csv file that contains your apple dataset. \n",
    "apple='AppleStore.csv'\n",
    "\n",
    "# Read the csv file into a pandas DataFrame object called Apple.\n",
    "Apple =pd.read_csv(apple)\n",
    "# Observe the first three entries like you did with your other data. \n",
    "Apple.head(3)"
   ]
  },
  {
   "cell_type": "markdown",
   "metadata": {
    "colab_type": "text",
    "id": "vljOHKNTFcuw"
   },
   "source": [
    "### 1b. Pick the columns we'll work with\n",
    "\n",
    "From the documentation of these datasets, we can infer that the most appropriate columns to answer the brief are:\n",
    "\n",
    "1. Google:\n",
    "    * `Category` # Do we need this?\n",
    "    * `Rating`\n",
    "    * `Reviews`\n",
    "    * `Price` (maybe)\n",
    "2. Apple:    \n",
    "    * `prime_genre` # Do we need this?\n",
    "    * `user_rating` \n",
    "    * `rating_count_tot`\n",
    "    * `price` (maybe)"
   ]
  },
  {
   "cell_type": "markdown",
   "metadata": {
    "colab_type": "text",
    "id": "uf69AeTvFcux"
   },
   "source": [
    "### 1c. Subsetting accordingly\n",
    "\n",
    "Let's select only those columns that we want to work with from both datasets. We'll overwrite the subsets in the original variables."
   ]
  },
  {
   "cell_type": "code",
   "execution_count": 49,
   "metadata": {
    "colab": {},
    "colab_type": "code",
    "id": "LNSDXyjdFcuy"
   },
   "outputs": [
    {
     "data": {
      "text/html": [
       "<div>\n",
       "<style scoped>\n",
       "    .dataframe tbody tr th:only-of-type {\n",
       "        vertical-align: middle;\n",
       "    }\n",
       "\n",
       "    .dataframe tbody tr th {\n",
       "        vertical-align: top;\n",
       "    }\n",
       "\n",
       "    .dataframe thead th {\n",
       "        text-align: right;\n",
       "    }\n",
       "</style>\n",
       "<table border=\"1\" class=\"dataframe\">\n",
       "  <thead>\n",
       "    <tr style=\"text-align: right;\">\n",
       "      <th></th>\n",
       "      <th>Category</th>\n",
       "      <th>Rating</th>\n",
       "      <th>Reviews</th>\n",
       "      <th>Price</th>\n",
       "    </tr>\n",
       "  </thead>\n",
       "  <tbody>\n",
       "    <tr>\n",
       "      <th>0</th>\n",
       "      <td>ART_AND_DESIGN</td>\n",
       "      <td>4.1</td>\n",
       "      <td>159</td>\n",
       "      <td>0</td>\n",
       "    </tr>\n",
       "    <tr>\n",
       "      <th>1</th>\n",
       "      <td>ART_AND_DESIGN</td>\n",
       "      <td>3.9</td>\n",
       "      <td>967</td>\n",
       "      <td>0</td>\n",
       "    </tr>\n",
       "    <tr>\n",
       "      <th>2</th>\n",
       "      <td>ART_AND_DESIGN</td>\n",
       "      <td>4.7</td>\n",
       "      <td>87510</td>\n",
       "      <td>0</td>\n",
       "    </tr>\n",
       "  </tbody>\n",
       "</table>\n",
       "</div>"
      ],
      "text/plain": [
       "         Category  Rating Reviews Price\n",
       "0  ART_AND_DESIGN     4.1     159     0\n",
       "1  ART_AND_DESIGN     3.9     967     0\n",
       "2  ART_AND_DESIGN     4.7   87510     0"
      ]
     },
     "execution_count": 49,
     "metadata": {},
     "output_type": "execute_result"
    }
   ],
   "source": [
    "# Subset our DataFrame object Google by selecting just the variables ['Category', 'Rating', 'Reviews', 'Price']\n",
    "Google=Google[['Category', 'Rating', 'Reviews', 'Price']]\n",
    "\n",
    "# Check the first three entries\n",
    "Google.head(3)"
   ]
  },
  {
   "cell_type": "code",
   "execution_count": 50,
   "metadata": {
    "colab": {},
    "colab_type": "code",
    "id": "AVCtENPtFcu0"
   },
   "outputs": [
    {
     "data": {
      "text/html": [
       "<div>\n",
       "<style scoped>\n",
       "    .dataframe tbody tr th:only-of-type {\n",
       "        vertical-align: middle;\n",
       "    }\n",
       "\n",
       "    .dataframe tbody tr th {\n",
       "        vertical-align: top;\n",
       "    }\n",
       "\n",
       "    .dataframe thead th {\n",
       "        text-align: right;\n",
       "    }\n",
       "</style>\n",
       "<table border=\"1\" class=\"dataframe\">\n",
       "  <thead>\n",
       "    <tr style=\"text-align: right;\">\n",
       "      <th></th>\n",
       "      <th>prime_genre</th>\n",
       "      <th>user_rating</th>\n",
       "      <th>rating_count_tot</th>\n",
       "      <th>price</th>\n",
       "    </tr>\n",
       "  </thead>\n",
       "  <tbody>\n",
       "    <tr>\n",
       "      <th>0</th>\n",
       "      <td>Games</td>\n",
       "      <td>4.0</td>\n",
       "      <td>21292</td>\n",
       "      <td>3.99</td>\n",
       "    </tr>\n",
       "    <tr>\n",
       "      <th>1</th>\n",
       "      <td>Productivity</td>\n",
       "      <td>4.0</td>\n",
       "      <td>161065</td>\n",
       "      <td>0.00</td>\n",
       "    </tr>\n",
       "    <tr>\n",
       "      <th>2</th>\n",
       "      <td>Weather</td>\n",
       "      <td>3.5</td>\n",
       "      <td>188583</td>\n",
       "      <td>0.00</td>\n",
       "    </tr>\n",
       "  </tbody>\n",
       "</table>\n",
       "</div>"
      ],
      "text/plain": [
       "    prime_genre  user_rating  rating_count_tot  price\n",
       "0         Games          4.0             21292   3.99\n",
       "1  Productivity          4.0            161065   0.00\n",
       "2       Weather          3.5            188583   0.00"
      ]
     },
     "execution_count": 50,
     "metadata": {},
     "output_type": "execute_result"
    }
   ],
   "source": [
    "# Do the same with our Apple object, selecting just the variables ['prime_genre', 'user_rating', 'rating_count_tot', 'price']\n",
    "Apple=Apple[['prime_genre', 'user_rating', 'rating_count_tot', 'price']]\n",
    "\n",
    "# Let's check the first three entries\n",
    "Apple.head(3) "
   ]
  },
  {
   "cell_type": "markdown",
   "metadata": {
    "colab_type": "text",
    "id": "wwK2wH-rFcu2"
   },
   "source": [
    "## Stage 2 -  Cleaning, transforming and visualizing"
   ]
  },
  {
   "cell_type": "markdown",
   "metadata": {
    "colab_type": "text",
    "id": "NsoE5x0JFcu3"
   },
   "source": [
    "### 2a. Check the data types for both Apple and Google, and fix them\n",
    "\n",
    "Types are crucial for data science in Python. Let's determine whether the variables we selected in the previous section belong to the types they should do, or whether there are any errors here. "
   ]
  },
  {
   "cell_type": "code",
   "execution_count": 51,
   "metadata": {
    "colab": {},
    "colab_type": "code",
    "id": "ymw10SaWFcu4"
   },
   "outputs": [
    {
     "data": {
      "text/plain": [
       "prime_genre          object\n",
       "user_rating         float64\n",
       "rating_count_tot      int64\n",
       "price               float64\n",
       "dtype: object"
      ]
     },
     "execution_count": 51,
     "metadata": {},
     "output_type": "execute_result"
    }
   ],
   "source": [
    "# Using the dtypes feature of pandas DataFrame objects, check out the data types within our Apple dataframe.\n",
    "# Are they what you expect?\n",
    "Apple.dtypes"
   ]
  },
  {
   "cell_type": "markdown",
   "metadata": {
    "colab_type": "text",
    "id": "VAiM6jIxFcu6"
   },
   "source": [
    "This is looking healthy. But what about our Google data frame?"
   ]
  },
  {
   "cell_type": "code",
   "execution_count": 52,
   "metadata": {
    "colab": {},
    "colab_type": "code",
    "id": "kmP8MhqyFcu7"
   },
   "outputs": [
    {
     "data": {
      "text/plain": [
       "Category     object\n",
       "Rating      float64\n",
       "Reviews      object\n",
       "Price        object\n",
       "dtype: object"
      ]
     },
     "execution_count": 52,
     "metadata": {},
     "output_type": "execute_result"
    }
   ],
   "source": [
    "# Using the same dtypes feature, check out the data types of our Google dataframe. \n",
    "Google.dtypes"
   ]
  },
  {
   "cell_type": "markdown",
   "metadata": {
    "colab_type": "text",
    "id": "O-dxAy0WFcu9"
   },
   "source": [
    "Weird. The data type for the column 'Price' is 'object', not a numeric data type like a float or an integer. Let's investigate the unique values of this column. "
   ]
  },
  {
   "cell_type": "code",
   "execution_count": 53,
   "metadata": {
    "colab": {},
    "colab_type": "code",
    "id": "Hu08K9y7Fcu9"
   },
   "outputs": [
    {
     "data": {
      "text/plain": [
       "array(['0', '$4.99', '$3.99', '$6.99', '$1.49', '$2.99', '$7.99', '$5.99',\n",
       "       '$3.49', '$1.99', '$9.99', '$7.49', '$0.99', '$9.00', '$5.49',\n",
       "       '$10.00', '$24.99', '$11.99', '$79.99', '$16.99', '$14.99',\n",
       "       '$1.00', '$29.99', '$12.99', '$2.49', '$10.99', '$1.50', '$19.99',\n",
       "       '$15.99', '$33.99', '$74.99', '$39.99', '$3.95', '$4.49', '$1.70',\n",
       "       '$8.99', '$2.00', '$3.88', '$25.99', '$399.99', '$17.99',\n",
       "       '$400.00', '$3.02', '$1.76', '$4.84', '$4.77', '$1.61', '$2.50',\n",
       "       '$1.59', '$6.49', '$1.29', '$5.00', '$13.99', '$299.99', '$379.99',\n",
       "       '$37.99', '$18.99', '$389.99', '$19.90', '$8.49', '$1.75',\n",
       "       '$14.00', '$4.85', '$46.99', '$109.99', '$154.99', '$3.08',\n",
       "       '$2.59', '$4.80', '$1.96', '$19.40', '$3.90', '$4.59', '$15.46',\n",
       "       '$3.04', '$4.29', '$2.60', '$3.28', '$4.60', '$28.99', '$2.95',\n",
       "       '$2.90', '$1.97', '$200.00', '$89.99', '$2.56', '$30.99', '$3.61',\n",
       "       '$394.99', '$1.26', 'Everyone', '$1.20', '$1.04'], dtype=object)"
      ]
     },
     "execution_count": 53,
     "metadata": {},
     "output_type": "execute_result"
    }
   ],
   "source": [
    "# Use the unique() pandas method on the Price column to check its unique values. \n",
    "Google.Price.unique()"
   ]
  },
  {
   "cell_type": "markdown",
   "metadata": {
    "colab_type": "text",
    "id": "w_7nkogFFcu_"
   },
   "source": [
    "Aha! Fascinating. There are actually two issues here. \n",
    "\n",
    "- Firstly, there's a price called `Everyone`. That is a massive mistake! \n",
    "- Secondly, there are dollar symbols everywhere! \n",
    "\n",
    "\n",
    "Let's address the first issue first. Let's check the datapoints that have the price value `Everyone`"
   ]
  },
  {
   "cell_type": "code",
   "execution_count": 54,
   "metadata": {
    "colab": {},
    "colab_type": "code",
    "id": "E75WWmhdFcvA"
   },
   "outputs": [
    {
     "data": {
      "text/html": [
       "<div>\n",
       "<style scoped>\n",
       "    .dataframe tbody tr th:only-of-type {\n",
       "        vertical-align: middle;\n",
       "    }\n",
       "\n",
       "    .dataframe tbody tr th {\n",
       "        vertical-align: top;\n",
       "    }\n",
       "\n",
       "    .dataframe thead th {\n",
       "        text-align: right;\n",
       "    }\n",
       "</style>\n",
       "<table border=\"1\" class=\"dataframe\">\n",
       "  <thead>\n",
       "    <tr style=\"text-align: right;\">\n",
       "      <th></th>\n",
       "      <th>Category</th>\n",
       "      <th>Rating</th>\n",
       "      <th>Reviews</th>\n",
       "      <th>Price</th>\n",
       "    </tr>\n",
       "  </thead>\n",
       "  <tbody>\n",
       "    <tr>\n",
       "      <th>10472</th>\n",
       "      <td>1.9</td>\n",
       "      <td>19.0</td>\n",
       "      <td>3.0M</td>\n",
       "      <td>Everyone</td>\n",
       "    </tr>\n",
       "  </tbody>\n",
       "</table>\n",
       "</div>"
      ],
      "text/plain": [
       "      Category  Rating Reviews     Price\n",
       "10472      1.9    19.0    3.0M  Everyone"
      ]
     },
     "execution_count": 54,
     "metadata": {},
     "output_type": "execute_result"
    }
   ],
   "source": [
    "# Let's check which data points have the value 'Everyone' for the 'Price' column by subsetting our Google dataframe.\n",
    "\n",
    "# Subset the Google dataframe on the price column. \n",
    "# To be sure: you want to pick out just those rows whose value for the 'Price' column is just 'Everyone'. \n",
    "Google[Google['Price'] == 'Everyone']"
   ]
  },
  {
   "cell_type": "markdown",
   "metadata": {
    "colab_type": "text",
    "id": "ezfLshdRFcvC"
   },
   "source": [
    "Thankfully, it's just one row. We've gotta get rid of it. "
   ]
  },
  {
   "cell_type": "code",
   "execution_count": 55,
   "metadata": {
    "colab": {},
    "colab_type": "code",
    "id": "DBmjUQUkFcvD"
   },
   "outputs": [
    {
     "data": {
      "text/plain": [
       "array(['0', '$4.99', '$3.99', '$6.99', '$1.49', '$2.99', '$7.99', '$5.99',\n",
       "       '$3.49', '$1.99', '$9.99', '$7.49', '$0.99', '$9.00', '$5.49',\n",
       "       '$10.00', '$24.99', '$11.99', '$79.99', '$16.99', '$14.99',\n",
       "       '$1.00', '$29.99', '$12.99', '$2.49', '$10.99', '$1.50', '$19.99',\n",
       "       '$15.99', '$33.99', '$74.99', '$39.99', '$3.95', '$4.49', '$1.70',\n",
       "       '$8.99', '$2.00', '$3.88', '$25.99', '$399.99', '$17.99',\n",
       "       '$400.00', '$3.02', '$1.76', '$4.84', '$4.77', '$1.61', '$2.50',\n",
       "       '$1.59', '$6.49', '$1.29', '$5.00', '$13.99', '$299.99', '$379.99',\n",
       "       '$37.99', '$18.99', '$389.99', '$19.90', '$8.49', '$1.75',\n",
       "       '$14.00', '$4.85', '$46.99', '$109.99', '$154.99', '$3.08',\n",
       "       '$2.59', '$4.80', '$1.96', '$19.40', '$3.90', '$4.59', '$15.46',\n",
       "       '$3.04', '$4.29', '$2.60', '$3.28', '$4.60', '$28.99', '$2.95',\n",
       "       '$2.90', '$1.97', '$200.00', '$89.99', '$2.56', '$30.99', '$3.61',\n",
       "       '$394.99', '$1.26', '$1.20', '$1.04'], dtype=object)"
      ]
     },
     "execution_count": 55,
     "metadata": {},
     "output_type": "execute_result"
    }
   ],
   "source": [
    "# Let's eliminate that row. \n",
    "\n",
    "# Subset our Google dataframe to pick out just those rows whose value for the 'Price' column is NOT 'Everyone'. \n",
    "# Reassign that subset to the Google variable. \n",
    "# You can do this in two lines or one. Your choice! \n",
    "Google = Google[Google['Price'] != 'Everyone']\n",
    "\n",
    "# Check again the unique values of Google\n",
    "Google.Price.unique()"
   ]
  },
  {
   "cell_type": "markdown",
   "metadata": {
    "colab_type": "text",
    "id": "T43TB4qFFcvF"
   },
   "source": [
    "Our second problem remains: I'm seeing dollar symbols when I close my eyes! (And not in a good way). \n",
    "\n",
    "This is a problem because Python actually considers these values strings. So we can't do mathematical and statistical operations on them until we've made them into numbers. "
   ]
  },
  {
   "cell_type": "code",
   "execution_count": 56,
   "metadata": {
    "colab": {},
    "colab_type": "code",
    "id": "W87gVS9BFcvG"
   },
   "outputs": [],
   "source": [
    "# Let's create a variable called nosymb.\n",
    "# This variable will take the Price column of Google and apply the str.replace() method. \n",
    "nosymb = Google['Price'].str.replace('$','')\n",
    "# Now we need to do two things:\n",
    "# i. Make the values in the nosymb variable numeric using the to_numeric() pandas method.\n",
    "# ii. Assign this new set of numeric, dollar-sign-less values to Google['Price']. \n",
    "# You can do this in one line if you wish.\n",
    "nosymb=pd.to_numeric(nosymb)\n",
    "Google[\"Price\"]=nosymb"
   ]
  },
  {
   "cell_type": "markdown",
   "metadata": {
    "colab_type": "text",
    "id": "LxpJQ9yyFcvI"
   },
   "source": [
    "Now let's check the data types for our Google dataframe again, to verify that the 'Price' column really is numeric now."
   ]
  },
  {
   "cell_type": "code",
   "execution_count": 57,
   "metadata": {
    "colab": {},
    "colab_type": "code",
    "id": "Fn5Gt-QbFcvI"
   },
   "outputs": [
    {
     "data": {
      "text/plain": [
       "Category     object\n",
       "Rating      float64\n",
       "Reviews      object\n",
       "Price       float64\n",
       "dtype: object"
      ]
     },
     "execution_count": 57,
     "metadata": {},
     "output_type": "execute_result"
    }
   ],
   "source": [
    "# Use the function dtypes. \n",
    "Google.dtypes"
   ]
  },
  {
   "cell_type": "markdown",
   "metadata": {
    "colab_type": "text",
    "id": "FgfuiVo0FcvK"
   },
   "source": [
    "Notice that the column `Reviews` is still an object column. We actually need this column to be a numeric column, too. "
   ]
  },
  {
   "cell_type": "code",
   "execution_count": 58,
   "metadata": {
    "colab": {},
    "colab_type": "code",
    "id": "MiVEWsWBFcvL"
   },
   "outputs": [],
   "source": [
    "# Convert the 'Reviews' column to a numeric data type. \n",
    "Google['Reviews'] = pd.to_numeric(Google['Reviews'])"
   ]
  },
  {
   "cell_type": "code",
   "execution_count": 59,
   "metadata": {
    "colab": {},
    "colab_type": "code",
    "id": "wWJdXXTTFcvN"
   },
   "outputs": [
    {
     "data": {
      "text/plain": [
       "Category     object\n",
       "Rating      float64\n",
       "Reviews       int64\n",
       "Price       float64\n",
       "dtype: object"
      ]
     },
     "execution_count": 59,
     "metadata": {},
     "output_type": "execute_result"
    }
   ],
   "source": [
    "# Let's check the data types of Google again\n",
    "Google.dtypes"
   ]
  },
  {
   "cell_type": "markdown",
   "metadata": {
    "colab_type": "text",
    "id": "OiLm2GEKFcvP"
   },
   "source": [
    "### 2b. Add a `platform` column to both the `Apple` and the `Google` dataframes\n",
    "Let's add a new column to both dataframe objects called `platform`: all of its values in the Google dataframe will be just 'google', and all of its values for the Apple dataframe will be just 'apple'. \n",
    "\n",
    "The reason we're making this column is so that we can ultimately join our Apple and Google data together, and actually test out some hypotheses to solve the problem in our brief. "
   ]
  },
  {
   "cell_type": "code",
   "execution_count": 60,
   "metadata": {
    "colab": {},
    "colab_type": "code",
    "id": "mF-sOcx2FcvQ"
   },
   "outputs": [],
   "source": [
    "# Create a column called 'platform' in both the Apple and Google dataframes. \n",
    "# Add the value 'apple' and the value 'google' as appropriate. \n",
    "Google['platform'] = 'google'\n",
    "Apple['platform']='apple'"
   ]
  },
  {
   "cell_type": "markdown",
   "metadata": {
    "colab_type": "text",
    "id": "EJcry17IFcvS"
   },
   "source": [
    "### 2c. Changing the column names to prepare for our join of the two datasets \n",
    "Since the easiest way to join two datasets is if they have both:\n",
    "- the same number of columns\n",
    "- the same column names\n",
    "we need to rename the columns of `Apple` so that they're the same as the ones of `Google`, or vice versa.\n",
    "\n",
    "In this case, we're going to change the `Apple` columns names to the names of the `Google` columns. \n",
    "\n",
    "This is an important step to unify the two datasets!"
   ]
  },
  {
   "cell_type": "code",
   "execution_count": 73,
   "metadata": {
    "colab": {},
    "colab_type": "code",
    "id": "bdt9XH2KFcvT"
   },
   "outputs": [],
   "source": [
    "# Create a variable called old_names where you'll store the column names of the Apple dataframe. \n",
    "# Use the feature .columns.\n",
    "old_names = Apple.columns\n",
    "\n",
    "# Create a variable called new_names where you'll store the column names of the Google dataframe. \n",
    "new_names = Google.columns\n",
    "replacedict = dict(zip(old_names, new_names))\n",
    "Apple.rename(columns = replacedict, inplace = True)\n"
   ]
  },
  {
   "cell_type": "markdown",
   "metadata": {
    "colab_type": "text",
    "id": "qewPiLrRFcvX"
   },
   "source": [
    "### 2d. Join the two datasets \n",
    "Let's combine the two datasets into a single data frame called `df`."
   ]
  },
  {
   "cell_type": "code",
   "execution_count": 76,
   "metadata": {
    "colab": {},
    "colab_type": "code",
    "id": "jq6fGfvyFcvY"
   },
   "outputs": [
    {
     "data": {
      "text/html": [
       "<div>\n",
       "<style scoped>\n",
       "    .dataframe tbody tr th:only-of-type {\n",
       "        vertical-align: middle;\n",
       "    }\n",
       "\n",
       "    .dataframe tbody tr th {\n",
       "        vertical-align: top;\n",
       "    }\n",
       "\n",
       "    .dataframe thead th {\n",
       "        text-align: right;\n",
       "    }\n",
       "</style>\n",
       "<table border=\"1\" class=\"dataframe\">\n",
       "  <thead>\n",
       "    <tr style=\"text-align: right;\">\n",
       "      <th></th>\n",
       "      <th>Category</th>\n",
       "      <th>Rating</th>\n",
       "      <th>Reviews</th>\n",
       "      <th>Price</th>\n",
       "      <th>platform</th>\n",
       "    </tr>\n",
       "  </thead>\n",
       "  <tbody>\n",
       "    <tr>\n",
       "      <th>1420</th>\n",
       "      <td>HEALTH_AND_FITNESS</td>\n",
       "      <td>4.2</td>\n",
       "      <td>1324</td>\n",
       "      <td>0.00</td>\n",
       "      <td>google</td>\n",
       "    </tr>\n",
       "    <tr>\n",
       "      <th>3599</th>\n",
       "      <td>Entertainment</td>\n",
       "      <td>3.5</td>\n",
       "      <td>42</td>\n",
       "      <td>3.99</td>\n",
       "      <td>apple</td>\n",
       "    </tr>\n",
       "    <tr>\n",
       "      <th>3473</th>\n",
       "      <td>Games</td>\n",
       "      <td>4.0</td>\n",
       "      <td>40446</td>\n",
       "      <td>0.00</td>\n",
       "      <td>apple</td>\n",
       "    </tr>\n",
       "    <tr>\n",
       "      <th>6145</th>\n",
       "      <td>SOCIAL</td>\n",
       "      <td>NaN</td>\n",
       "      <td>4</td>\n",
       "      <td>0.00</td>\n",
       "      <td>google</td>\n",
       "    </tr>\n",
       "    <tr>\n",
       "      <th>6966</th>\n",
       "      <td>FAMILY</td>\n",
       "      <td>4.4</td>\n",
       "      <td>551</td>\n",
       "      <td>0.00</td>\n",
       "      <td>google</td>\n",
       "    </tr>\n",
       "    <tr>\n",
       "      <th>5932</th>\n",
       "      <td>Entertainment</td>\n",
       "      <td>4.5</td>\n",
       "      <td>21</td>\n",
       "      <td>1.99</td>\n",
       "      <td>apple</td>\n",
       "    </tr>\n",
       "    <tr>\n",
       "      <th>5990</th>\n",
       "      <td>FAMILY</td>\n",
       "      <td>3.3</td>\n",
       "      <td>14</td>\n",
       "      <td>0.00</td>\n",
       "      <td>google</td>\n",
       "    </tr>\n",
       "    <tr>\n",
       "      <th>4103</th>\n",
       "      <td>FINANCE</td>\n",
       "      <td>4.3</td>\n",
       "      <td>9400</td>\n",
       "      <td>0.00</td>\n",
       "      <td>google</td>\n",
       "    </tr>\n",
       "    <tr>\n",
       "      <th>6088</th>\n",
       "      <td>GAME</td>\n",
       "      <td>3.4</td>\n",
       "      <td>32</td>\n",
       "      <td>0.99</td>\n",
       "      <td>google</td>\n",
       "    </tr>\n",
       "    <tr>\n",
       "      <th>8262</th>\n",
       "      <td>FAMILY</td>\n",
       "      <td>NaN</td>\n",
       "      <td>3</td>\n",
       "      <td>0.00</td>\n",
       "      <td>google</td>\n",
       "    </tr>\n",
       "    <tr>\n",
       "      <th>2521</th>\n",
       "      <td>Games</td>\n",
       "      <td>4.0</td>\n",
       "      <td>669</td>\n",
       "      <td>5.99</td>\n",
       "      <td>apple</td>\n",
       "    </tr>\n",
       "    <tr>\n",
       "      <th>3479</th>\n",
       "      <td>PRODUCTIVITY</td>\n",
       "      <td>4.2</td>\n",
       "      <td>56403</td>\n",
       "      <td>0.00</td>\n",
       "      <td>google</td>\n",
       "    </tr>\n",
       "  </tbody>\n",
       "</table>\n",
       "</div>"
      ],
      "text/plain": [
       "                Category  Rating  Reviews  Price platform\n",
       "1420  HEALTH_AND_FITNESS     4.2     1324   0.00   google\n",
       "3599       Entertainment     3.5       42   3.99    apple\n",
       "3473               Games     4.0    40446   0.00    apple\n",
       "6145              SOCIAL     NaN        4   0.00   google\n",
       "6966              FAMILY     4.4      551   0.00   google\n",
       "5932       Entertainment     4.5       21   1.99    apple\n",
       "5990              FAMILY     3.3       14   0.00   google\n",
       "4103             FINANCE     4.3     9400   0.00   google\n",
       "6088                GAME     3.4       32   0.99   google\n",
       "8262              FAMILY     NaN        3   0.00   google\n",
       "2521               Games     4.0      669   5.99    apple\n",
       "3479        PRODUCTIVITY     4.2    56403   0.00   google"
      ]
     },
     "execution_count": 76,
     "metadata": {},
     "output_type": "execute_result"
    }
   ],
   "source": [
    "# Let's use the append() method to append Apple to Google. \n",
    "Google =Google.append(Apple)\n",
    "\n",
    "# Using the sample() method with the number 12 passed to it, check 12 random points of your dataset.\n",
    "Google.sample(12)"
   ]
  },
  {
   "cell_type": "markdown",
   "metadata": {
    "colab_type": "text",
    "id": "FjqsHugWFcvb"
   },
   "source": [
    "### 2e. Eliminate the NaN values\n",
    "\n",
    "As you can see there are some `NaN` values. We want to eliminate all these `NaN` values from the table."
   ]
  },
  {
   "cell_type": "code",
   "execution_count": 80,
   "metadata": {
    "colab": {},
    "colab_type": "code",
    "id": "Gp2q6GLyFcvb"
   },
   "outputs": [
    {
     "data": {
      "text/plain": [
       "(16563, 5)"
      ]
     },
     "execution_count": 80,
     "metadata": {},
     "output_type": "execute_result"
    }
   ],
   "source": [
    "# Lets check first the dimesions of df before droping `NaN` values. Use the .shape feature. \n",
    "Google.shape\n",
    "\n",
    "# Use the dropna() method to eliminate all the NaN values, and overwrite the same dataframe with the result. \n",
    "Google =Google.dropna()\n",
    "\n",
    "# Check the new dimesions of our dataframe. \n",
    "Google.shape\n"
   ]
  },
  {
   "cell_type": "markdown",
   "metadata": {
    "colab_type": "text",
    "id": "qtfeQKtAFcvd"
   },
   "source": [
    "### 2f. Filter the data so that we only see whose apps that have been reviewed at least once\n",
    "\n",
    "Apps that haven't been reviewed yet can't help us solve our brief. \n",
    "\n",
    "So let's check to see if any apps have no reviews at all. "
   ]
  },
  {
   "cell_type": "code",
   "execution_count": 82,
   "metadata": {
    "colab": {},
    "colab_type": "code",
    "id": "Ge9OKXLNFcvd"
   },
   "outputs": [
    {
     "data": {
      "text/plain": [
       "Category    929\n",
       "Rating      929\n",
       "Reviews     929\n",
       "Price       929\n",
       "platform    929\n",
       "dtype: int64"
      ]
     },
     "execution_count": 82,
     "metadata": {},
     "output_type": "execute_result"
    }
   ],
   "source": [
    "# Subset your df to pick out just those rows whose value for 'Reviews' is equal to 0. \n",
    "# Do a count() on the result. \n",
    "Google[Google.Reviews ==0].count()"
   ]
  },
  {
   "cell_type": "markdown",
   "metadata": {
    "colab_type": "text",
    "id": "05f7H0kAFcvg"
   },
   "source": [
    "929 apps do not have reviews, we need to eliminate these points!"
   ]
  },
  {
   "cell_type": "code",
   "execution_count": 84,
   "metadata": {
    "colab": {},
    "colab_type": "code",
    "id": "pD8vmPjkFcvg"
   },
   "outputs": [
    {
     "data": {
      "text/html": [
       "<div>\n",
       "<style scoped>\n",
       "    .dataframe tbody tr th:only-of-type {\n",
       "        vertical-align: middle;\n",
       "    }\n",
       "\n",
       "    .dataframe tbody tr th {\n",
       "        vertical-align: top;\n",
       "    }\n",
       "\n",
       "    .dataframe thead th {\n",
       "        text-align: right;\n",
       "    }\n",
       "</style>\n",
       "<table border=\"1\" class=\"dataframe\">\n",
       "  <thead>\n",
       "    <tr style=\"text-align: right;\">\n",
       "      <th></th>\n",
       "      <th>Category</th>\n",
       "      <th>Rating</th>\n",
       "      <th>Reviews</th>\n",
       "      <th>Price</th>\n",
       "      <th>platform</th>\n",
       "    </tr>\n",
       "  </thead>\n",
       "  <tbody>\n",
       "    <tr>\n",
       "      <th>0</th>\n",
       "      <td>ART_AND_DESIGN</td>\n",
       "      <td>4.1</td>\n",
       "      <td>159</td>\n",
       "      <td>0.00</td>\n",
       "      <td>google</td>\n",
       "    </tr>\n",
       "    <tr>\n",
       "      <th>1</th>\n",
       "      <td>ART_AND_DESIGN</td>\n",
       "      <td>3.9</td>\n",
       "      <td>967</td>\n",
       "      <td>0.00</td>\n",
       "      <td>google</td>\n",
       "    </tr>\n",
       "    <tr>\n",
       "      <th>2</th>\n",
       "      <td>ART_AND_DESIGN</td>\n",
       "      <td>4.7</td>\n",
       "      <td>87510</td>\n",
       "      <td>0.00</td>\n",
       "      <td>google</td>\n",
       "    </tr>\n",
       "    <tr>\n",
       "      <th>3</th>\n",
       "      <td>ART_AND_DESIGN</td>\n",
       "      <td>4.5</td>\n",
       "      <td>215644</td>\n",
       "      <td>0.00</td>\n",
       "      <td>google</td>\n",
       "    </tr>\n",
       "    <tr>\n",
       "      <th>4</th>\n",
       "      <td>ART_AND_DESIGN</td>\n",
       "      <td>4.3</td>\n",
       "      <td>967</td>\n",
       "      <td>0.00</td>\n",
       "      <td>google</td>\n",
       "    </tr>\n",
       "    <tr>\n",
       "      <th>...</th>\n",
       "      <td>...</td>\n",
       "      <td>...</td>\n",
       "      <td>...</td>\n",
       "      <td>...</td>\n",
       "      <td>...</td>\n",
       "    </tr>\n",
       "    <tr>\n",
       "      <th>7192</th>\n",
       "      <td>Games</td>\n",
       "      <td>4.5</td>\n",
       "      <td>142</td>\n",
       "      <td>0.00</td>\n",
       "      <td>apple</td>\n",
       "    </tr>\n",
       "    <tr>\n",
       "      <th>7193</th>\n",
       "      <td>Games</td>\n",
       "      <td>4.5</td>\n",
       "      <td>30</td>\n",
       "      <td>0.00</td>\n",
       "      <td>apple</td>\n",
       "    </tr>\n",
       "    <tr>\n",
       "      <th>7194</th>\n",
       "      <td>Utilities</td>\n",
       "      <td>4.5</td>\n",
       "      <td>15</td>\n",
       "      <td>1.99</td>\n",
       "      <td>apple</td>\n",
       "    </tr>\n",
       "    <tr>\n",
       "      <th>7195</th>\n",
       "      <td>Games</td>\n",
       "      <td>4.5</td>\n",
       "      <td>85</td>\n",
       "      <td>0.00</td>\n",
       "      <td>apple</td>\n",
       "    </tr>\n",
       "    <tr>\n",
       "      <th>7196</th>\n",
       "      <td>Games</td>\n",
       "      <td>5.0</td>\n",
       "      <td>3</td>\n",
       "      <td>0.00</td>\n",
       "      <td>apple</td>\n",
       "    </tr>\n",
       "  </tbody>\n",
       "</table>\n",
       "<p>15634 rows × 5 columns</p>\n",
       "</div>"
      ],
      "text/plain": [
       "            Category  Rating  Reviews  Price platform\n",
       "0     ART_AND_DESIGN     4.1      159   0.00   google\n",
       "1     ART_AND_DESIGN     3.9      967   0.00   google\n",
       "2     ART_AND_DESIGN     4.7    87510   0.00   google\n",
       "3     ART_AND_DESIGN     4.5   215644   0.00   google\n",
       "4     ART_AND_DESIGN     4.3      967   0.00   google\n",
       "...              ...     ...      ...    ...      ...\n",
       "7192           Games     4.5      142   0.00    apple\n",
       "7193           Games     4.5       30   0.00    apple\n",
       "7194       Utilities     4.5       15   1.99    apple\n",
       "7195           Games     4.5       85   0.00    apple\n",
       "7196           Games     5.0        3   0.00    apple\n",
       "\n",
       "[15634 rows x 5 columns]"
      ]
     },
     "execution_count": 84,
     "metadata": {},
     "output_type": "execute_result"
    }
   ],
   "source": [
    "# Eliminate the points that have 0 reviews.\n",
    "Google = Google[Google.Reviews !=0]\n",
    "Google"
   ]
  },
  {
   "cell_type": "markdown",
   "metadata": {
    "colab_type": "text",
    "id": "ApnKES_bFcvi"
   },
   "source": [
    "### 2g. Summarize the data visually and analytically (by the column `platform`)"
   ]
  },
  {
   "cell_type": "markdown",
   "metadata": {
    "colab_type": "text",
    "id": "2smt9UocFcvj"
   },
   "source": [
    "What we need to solve our brief is a summary of the `Rating` column, but separated by the different platforms."
   ]
  },
  {
   "cell_type": "code",
   "execution_count": 104,
   "metadata": {
    "colab": {},
    "colab_type": "code",
    "id": "Vqckt347Fcvj"
   },
   "outputs": [
    {
     "data": {
      "text/html": [
       "<div>\n",
       "<style scoped>\n",
       "    .dataframe tbody tr th:only-of-type {\n",
       "        vertical-align: middle;\n",
       "    }\n",
       "\n",
       "    .dataframe tbody tr th {\n",
       "        vertical-align: top;\n",
       "    }\n",
       "\n",
       "    .dataframe thead th {\n",
       "        text-align: right;\n",
       "    }\n",
       "</style>\n",
       "<table border=\"1\" class=\"dataframe\">\n",
       "  <thead>\n",
       "    <tr style=\"text-align: right;\">\n",
       "      <th></th>\n",
       "      <th>Rating</th>\n",
       "      <th>Reviews</th>\n",
       "      <th>Price</th>\n",
       "    </tr>\n",
       "    <tr>\n",
       "      <th>platform</th>\n",
       "      <th></th>\n",
       "      <th></th>\n",
       "      <th></th>\n",
       "    </tr>\n",
       "  </thead>\n",
       "  <tbody>\n",
       "    <tr>\n",
       "      <th>apple</th>\n",
       "      <td>4.049697</td>\n",
       "      <td>14803.805520</td>\n",
       "      <td>1.821977</td>\n",
       "    </tr>\n",
       "    <tr>\n",
       "      <th>google</th>\n",
       "      <td>4.191757</td>\n",
       "      <td>514049.836536</td>\n",
       "      <td>0.960928</td>\n",
       "    </tr>\n",
       "  </tbody>\n",
       "</table>\n",
       "</div>"
      ],
      "text/plain": [
       "            Rating        Reviews     Price\n",
       "platform                                   \n",
       "apple     4.049697   14803.805520  1.821977\n",
       "google    4.191757  514049.836536  0.960928"
      ]
     },
     "execution_count": 104,
     "metadata": {},
     "output_type": "execute_result"
    }
   ],
   "source": [
    "# To summarize analytically, let's use the groupby() method on our df.\n",
    "Google.groupby('platform').mean()"
   ]
  },
  {
   "cell_type": "markdown",
   "metadata": {
    "colab_type": "text",
    "id": "8f9TqMtKFcvl"
   },
   "source": [
    "Interesting! Our means of 4.049697 and 4.191757 don't **seem** all that different! Perhaps we've solved our brief already: there's no significant difference between Google Play app reviews and Apple Store app reviews. We have an ***observed difference*** here: which is simply (4.191757 - 4.049697) = 0.14206. This is just the actual difference that we observed between the mean rating for apps from Google Play, and the mean rating for apps from the Apple Store. Let's look at how we're going to use this observed difference to solve our problem using a statistical test. \n",
    "\n",
    "**Outline of our method:**\n",
    "1. We'll assume that platform (i.e, whether the app was Google or Apple) really doesn’t impact on ratings. \n",
    "\n",
    "\n",
    "2. Given this assumption, we should actually be able to get a difference in mean rating for Apple apps and mean rating for Google apps that's pretty similar to the one we actually got (0.14206) just by: \n",
    "a. shuffling the ratings column, \n",
    "b. keeping the platform column the same,\n",
    "c. calculating the difference between the mean rating for Apple and the mean rating for Google. \n",
    "\n",
    "\n",
    "3. We can make the shuffle more useful by doing it many times, each time calculating the mean rating for Apple apps and the mean rating for Google apps, and the difference between these means. \n",
    "\n",
    "\n",
    "4. We can then take the mean of all these differences, and this will be called our permutation difference. This permutation difference will be great indicator of what the difference would be if our initial assumption were true and platform really doesn’t impact on ratings. \n",
    "\n",
    "\n",
    "5. Now we do a comparison. If the observed difference looks just like the permutation difference, then we stick with the claim that actually, platform doesn’t impact on ratings. If instead, however, the permutation difference differs significantly from the observed difference, we'll conclude: something's going on; the platform does in fact impact on ratings. \n",
    "\n",
    "\n",
    "6. As for what the definition of *significantly* is, we'll get to that. But there’s a brief summary of what we're going to do. Exciting!\n",
    "\n",
    "If you want to look more deeply at the statistics behind this project, check out [this resource](https://www.springboard.com/archeio/download/4ea4d453b0b84014bcef287c50f47f00/)."
   ]
  },
  {
   "cell_type": "markdown",
   "metadata": {
    "colab_type": "text",
    "id": "d6EhTxArFcvm"
   },
   "source": [
    "Let's also get a **visual summary** of the `Rating` column, separated by the different platforms. \n",
    "\n",
    "A good tool to use here is the boxplot!"
   ]
  },
  {
   "cell_type": "code",
   "execution_count": 118,
   "metadata": {
    "colab": {},
    "colab_type": "code",
    "id": "hFKjrlWgFcvm"
   },
   "outputs": [
    {
     "data": {
      "text/plain": [
       "<AxesSubplot:title={'center':'Rating'}, xlabel='platform'>"
      ]
     },
     "execution_count": 118,
     "metadata": {},
     "output_type": "execute_result"
    },
    {
     "data": {
      "image/png": "[encoded data removed]",
      "text/plain": [
       "<Figure size 432x288 with 1 Axes>"
      ]
     },
     "metadata": {
      "needs_background": "light"
     },
     "output_type": "display_data"
    }
   ],
   "source": [
    "# Call the boxplot() method on our df.\n",
    "Google.boxplot(by='platform', column ='Rating', grid=False, rot=45, fontsize=15)\n"
   ]
  },
  {
   "cell_type": "markdown",
   "metadata": {
    "colab_type": "text",
    "id": "FqTlAjnmFcvo"
   },
   "source": [
    "Here we see the same information as in the analytical summary, but with a boxplot. Can you see how the boxplot is working here? If you need to revise your boxplots, check out this this [link](https://www.kaggle.com/ramamet4/app-store-apple-data-set-10k-apps). "
   ]
  },
  {
   "cell_type": "markdown",
   "metadata": {
    "colab_type": "text",
    "id": "O8L-s1fgFcvp"
   },
   "source": [
    "## Stage 3 - Modelling"
   ]
  },
  {
   "cell_type": "markdown",
   "metadata": {
    "colab_type": "text",
    "id": "5fbRq2MZFcvq"
   },
   "source": [
    "### 3a. Hypothesis formulation\n",
    "\n",
    "Our **Null hypothesis** is just:\n",
    "\n",
    "**H<sub>null</sub>**: the observed difference in the mean rating of Apple Store and Google Play apps is due to chance (and thus not due to the platform).\n",
    "\n",
    "The more interesting hypothesis is called the **Alternate hypothesis**:\n",
    "\n",
    "**H<sub>alternative</sub>**: the observed difference in the average ratings of apple and google users is not due to chance (and is actually due to platform)\n",
    "\n",
    "We're also going to pick a **significance level** of 0.05. "
   ]
  },
  {
   "cell_type": "markdown",
   "metadata": {
    "colab_type": "text",
    "id": "TjBqkabaFcvq"
   },
   "source": [
    "### 3b. Getting the distribution of the data\n",
    "Now that the hypotheses and significance level are defined, we can select a statistical test to determine which hypothesis to accept. \n",
    "\n",
    "There are many different statistical tests, all with different assumptions. You'll generate an excellent judgement about when to use which statistical tests over the Data Science Career Track course. But in general, one of the most important things to determine is the **distribution of the data**.   "
   ]
  },
  {
   "cell_type": "code",
   "execution_count": 121,
   "metadata": {
    "colab": {},
    "colab_type": "code",
    "id": "bFwVhkeWFcvr"
   },
   "outputs": [],
   "source": [
    "# Create a subset of the column 'Rating' by the different platforms.\n",
    "# Call the subsets 'apple' and 'google' \n",
    "apple = Google[Google['platform']=='apple']\n",
    "google = Google[Google['platform']=='google']"
   ]
  },
  {
   "cell_type": "code",
   "execution_count": 128,
   "metadata": {
    "colab": {},
    "colab_type": "code",
    "id": "oPPFpwPvFcvu"
   },
   "outputs": [
    {
     "data": {
      "text/plain": [
       "NormaltestResult(statistic=1778.9974234584017, pvalue=0.0)"
      ]
     },
     "execution_count": 128,
     "metadata": {},
     "output_type": "execute_result"
    }
   ],
   "source": [
    "# Using the stats.normaltest() method, get an indication of whether the apple data are normally distributed\n",
    "# Save the result in a variable called apple_normal, and print it out\n",
    "apple.head()\n",
    "stats.normaltest(apple.Rating)"
   ]
  },
  {
   "cell_type": "code",
   "execution_count": 129,
   "metadata": {
    "colab": {},
    "colab_type": "code",
    "id": "rCdh8a8KFcvw"
   },
   "outputs": [
    {
     "data": {
      "text/plain": [
       "NormaltestResult(statistic=3678.6157187516856, pvalue=0.0)"
      ]
     },
     "execution_count": 129,
     "metadata": {},
     "output_type": "execute_result"
    }
   ],
   "source": [
    "# Do the same with the google data. \n",
    "stats.normaltest(google.Rating)"
   ]
  },
  {
   "cell_type": "markdown",
   "metadata": {
    "colab_type": "text",
    "id": "9gDqu21yFcv0"
   },
   "source": [
    "Since the null hypothesis of the normaltest() is that the data are normally distributed, the lower the p-value in the result of this test, the more likely the data are to be non-normal. \n",
    "\n",
    "Since the p-values is 0 for both tests, regardless of what we pick for the significance level, our conclusion is that the data are not normally distributed. \n",
    "\n",
    "We can actually also check out the distribution of the data visually with a histogram. A normal distribution has the following visual characteristics:\n",
    "    - symmetric\n",
    "    - unimodal (one hump)\n",
    "As well as a roughly identical mean, median and mode. "
   ]
  },
  {
   "cell_type": "code",
   "execution_count": 140,
   "metadata": {
    "colab": {},
    "colab_type": "code",
    "id": "P9tT9RjNFcv1"
   },
   "outputs": [
    {
     "data": {
      "text/plain": [
       "Text(0, 0.5, 'Count')"
      ]
     },
     "execution_count": 140,
     "metadata": {},
     "output_type": "execute_result"
    },
    {
     "data": {
      "image/png": "[encoded data removed]",
      "text/plain": [
       "<Figure size 432x288 with 1 Axes>"
      ]
     },
     "metadata": {
      "needs_background": "light"
     },
     "output_type": "display_data"
    }
   ],
   "source": [
    "# Create a histogram of the apple reviews distribution\n",
    "plt.hist(apple.Rating, bins=20)\n",
    "plt.xlabel('Rating')\n",
    "plt.ylabel('Count')"
   ]
  },
  {
   "cell_type": "code",
   "execution_count": 142,
   "metadata": {
    "colab": {},
    "colab_type": "code",
    "id": "8dE1uC5iFcv2"
   },
   "outputs": [
    {
     "data": {
      "text/plain": [
       "Text(0, 0.5, 'Count')"
      ]
     },
     "execution_count": 142,
     "metadata": {},
     "output_type": "execute_result"
    },
    {
     "data": {
      "image/png": "[encoded data removed]",
      "text/plain": [
       "<Figure size 432x288 with 1 Axes>"
      ]
     },
     "metadata": {
      "needs_background": "light"
     },
     "output_type": "display_data"
    }
   ],
   "source": [
    "# Create a histogram of the google data\n",
    "plt.hist(google.Rating, bins=30)\n",
    "plt.xlabel('Rating')\n",
    "plt.ylabel('Count')"
   ]
  },
  {
   "cell_type": "markdown",
   "metadata": {
    "colab_type": "text",
    "id": "QhZV89FzFcv5"
   },
   "source": [
    "### 3c. Permutation test\n",
    "Since the data aren't normally distributed, we're using a *non-parametric* test here. This is simply a label for statistical tests used when the data aren't normally distributed. These tests are extraordinarily powerful due to how few assumptions we need to make.  \n",
    "\n",
    "Check out more about permutations [here.](http://rasbt.github.io/mlxtend/user_guide/evaluate/permutation_test/)"
   ]
  },
  {
   "cell_type": "code",
   "execution_count": 167,
   "metadata": {
    "colab": {},
    "colab_type": "code",
    "id": "bxNhQgpqFcv6"
   },
   "outputs": [
    {
     "data": {
      "text/html": [
       "<div>\n",
       "<style scoped>\n",
       "    .dataframe tbody tr th:only-of-type {\n",
       "        vertical-align: middle;\n",
       "    }\n",
       "\n",
       "    .dataframe tbody tr th {\n",
       "        vertical-align: top;\n",
       "    }\n",
       "\n",
       "    .dataframe thead th {\n",
       "        text-align: right;\n",
       "    }\n",
       "</style>\n",
       "<table border=\"1\" class=\"dataframe\">\n",
       "  <thead>\n",
       "    <tr style=\"text-align: right;\">\n",
       "      <th></th>\n",
       "      <th>count</th>\n",
       "      <th>mean</th>\n",
       "      <th>std</th>\n",
       "      <th>min</th>\n",
       "      <th>25%</th>\n",
       "      <th>50%</th>\n",
       "      <th>75%</th>\n",
       "      <th>max</th>\n",
       "    </tr>\n",
       "    <tr>\n",
       "      <th>platform</th>\n",
       "      <th></th>\n",
       "      <th></th>\n",
       "      <th></th>\n",
       "      <th></th>\n",
       "      <th></th>\n",
       "      <th></th>\n",
       "      <th></th>\n",
       "      <th></th>\n",
       "    </tr>\n",
       "  </thead>\n",
       "  <tbody>\n",
       "    <tr>\n",
       "      <th>apple</th>\n",
       "      <td>6268.0</td>\n",
       "      <td>4.151500</td>\n",
       "      <td>0.593072</td>\n",
       "      <td>1.0</td>\n",
       "      <td>4.0</td>\n",
       "      <td>4.3</td>\n",
       "      <td>4.5</td>\n",
       "      <td>5.0</td>\n",
       "    </tr>\n",
       "    <tr>\n",
       "      <th>google</th>\n",
       "      <td>9366.0</td>\n",
       "      <td>4.123628</td>\n",
       "      <td>0.625688</td>\n",
       "      <td>1.0</td>\n",
       "      <td>4.0</td>\n",
       "      <td>4.3</td>\n",
       "      <td>4.5</td>\n",
       "      <td>5.0</td>\n",
       "    </tr>\n",
       "  </tbody>\n",
       "</table>\n",
       "</div>"
      ],
      "text/plain": [
       "           count      mean       std  min  25%  50%  75%  max\n",
       "platform                                                     \n",
       "apple     6268.0  4.151500  0.593072  1.0  4.0  4.3  4.5  5.0\n",
       "google    9366.0  4.123628  0.625688  1.0  4.0  4.3  4.5  5.0"
      ]
     },
     "execution_count": 167,
     "metadata": {},
     "output_type": "execute_result"
    }
   ],
   "source": [
    "# Create a column called `Permutation1`, and assign to it the result of permuting (shuffling) the Rating column\n",
    "# This assignment will use our numpy object's random.permutation() method\n",
    "Google['permutation1']=np.random.permutation(Google.Rating)\n",
    "\n",
    "# Call the describe() method on our permutation grouped by 'platform'. \n",
    "Google.groupby('platform').describe().permutation1\n"
   ]
  },
  {
   "cell_type": "code",
   "execution_count": 169,
   "metadata": {
    "colab": {},
    "colab_type": "code",
    "id": "AaGNfPGTFcv7"
   },
   "outputs": [
    {
     "data": {
      "text/html": [
       "<div>\n",
       "<style scoped>\n",
       "    .dataframe tbody tr th:only-of-type {\n",
       "        vertical-align: middle;\n",
       "    }\n",
       "\n",
       "    .dataframe tbody tr th {\n",
       "        vertical-align: top;\n",
       "    }\n",
       "\n",
       "    .dataframe thead th {\n",
       "        text-align: right;\n",
       "    }\n",
       "</style>\n",
       "<table border=\"1\" class=\"dataframe\">\n",
       "  <thead>\n",
       "    <tr style=\"text-align: right;\">\n",
       "      <th></th>\n",
       "      <th>count</th>\n",
       "      <th>mean</th>\n",
       "      <th>std</th>\n",
       "      <th>min</th>\n",
       "      <th>25%</th>\n",
       "      <th>50%</th>\n",
       "      <th>75%</th>\n",
       "      <th>max</th>\n",
       "    </tr>\n",
       "    <tr>\n",
       "      <th>platform</th>\n",
       "      <th></th>\n",
       "      <th></th>\n",
       "      <th></th>\n",
       "      <th></th>\n",
       "      <th></th>\n",
       "      <th></th>\n",
       "      <th></th>\n",
       "      <th></th>\n",
       "    </tr>\n",
       "  </thead>\n",
       "  <tbody>\n",
       "    <tr>\n",
       "      <th>apple</th>\n",
       "      <td>6268.0</td>\n",
       "      <td>4.049697</td>\n",
       "      <td>0.726943</td>\n",
       "      <td>1.0</td>\n",
       "      <td>4.0</td>\n",
       "      <td>4.5</td>\n",
       "      <td>4.5</td>\n",
       "      <td>5.0</td>\n",
       "    </tr>\n",
       "    <tr>\n",
       "      <th>google</th>\n",
       "      <td>9366.0</td>\n",
       "      <td>4.191757</td>\n",
       "      <td>0.515219</td>\n",
       "      <td>1.0</td>\n",
       "      <td>4.0</td>\n",
       "      <td>4.3</td>\n",
       "      <td>4.5</td>\n",
       "      <td>5.0</td>\n",
       "    </tr>\n",
       "  </tbody>\n",
       "</table>\n",
       "</div>"
      ],
      "text/plain": [
       "           count      mean       std  min  25%  50%  75%  max\n",
       "platform                                                     \n",
       "apple     6268.0  4.049697  0.726943  1.0  4.0  4.5  4.5  5.0\n",
       "google    9366.0  4.191757  0.515219  1.0  4.0  4.3  4.5  5.0"
      ]
     },
     "execution_count": 169,
     "metadata": {},
     "output_type": "execute_result"
    }
   ],
   "source": [
    "# Lets compare with the previous analytical summary:\n",
    "Google.groupby('platform').describe().Rating"
   ]
  },
  {
   "cell_type": "code",
   "execution_count": 181,
   "metadata": {},
   "outputs": [
    {
     "data": {
      "text/plain": [
       "-0.14206054745123442"
      ]
     },
     "execution_count": 181,
     "metadata": {},
     "output_type": "execute_result"
    }
   ],
   "source": [
    "Google.groupby('platform').mean().Rating[0] - Google.groupby('platform').mean().Rating[1]\n",
    "\n"
   ]
  },
  {
   "cell_type": "code",
   "execution_count": 222,
   "metadata": {
    "colab": {},
    "colab_type": "code",
    "id": "aJPNpX0JFcv-"
   },
   "outputs": [],
   "source": [
    "# The difference in the means for Permutation1 (0.001103) now looks hugely different to our observed difference of 0.14206. \n",
    "# It's sure starting to look like our observed difference is significant, and that the Null is false; platform does impact on ratings\n",
    "# But to be sure, let's create 10,000 permutations, calculate the mean ratings for Google and Apple apps and the difference between these for each one, and then take the average of all of these differences.\n",
    "# Let's create a vector with the differences - that will be the distibution of the Null.\n",
    "\n",
    "# First, make a list called difference.\n",
    "difference =[]\n",
    "\n",
    "# Now make a for loop that does the following 10,000 times:\n",
    "# 1. makes a permutation of the 'Rating' as you did above\n",
    "# 2. calculates the difference in the mean rating for apple and the mean rating for google.\n",
    "Platformpermuations = pd.DataFrame(Google.platform)\n",
    "for i in range(10000):\n",
    "    Platformpermuations['Permuted'] = pd.DataFrame(np.random.permutation(Google.Rating))\n",
    "    difference.append(Platformpermuations.groupby('platform').mean().Permuted[0] - Platformpermuations.groupby('platform').mean().Permuted[1])\n"
   ]
  },
  {
   "cell_type": "code",
   "execution_count": 224,
   "metadata": {},
   "outputs": [
    {
     "data": {
      "text/plain": [
       "[-0.006277199053032589,\n",
       " 0.0036127973643917954,\n",
       " 0.0022669096942813383,\n",
       " -0.0014950408550324923,\n",
       " -0.0016272213539405556,\n",
       " -0.004462882963686354,\n",
       " -0.0033041172833696564,\n",
       " -0.00496285495977844,\n",
       " -0.002640554076778656,\n",
       " -0.002331301653063278,\n",
       " -0.00026734535607353394,\n",
       " -0.010653164285105099,\n",
       " -0.005629606932755493,\n",
       " 0.004153419318288165,\n",
       " -0.008280793637619688,\n",
       " -0.0019963755718190868,\n",
       " 0.0009125254607331712,\n",
       " 0.002736472578450666,\n",
       " 0.007755342171668289,\n",
       " -0.008760900573043351,\n",
       " -0.00470402660792324,\n",
       " -0.002459417837559208,\n",
       " 0.006820924603262668,\n",
       " -0.0008692965540388897,\n",
       " -0.001959806962425148,\n",
       " 0.008103766001233303,\n",
       " 0.001430175350806806,\n",
       " 0.008141199938247468,\n",
       " 0.009679772905311523,\n",
       " 0.0028567224578157635,\n",
       " 0.007065887272203142,\n",
       " -0.005401698713098924,\n",
       " -0.0008259756637363225,\n",
       " -0.009723287983355533,\n",
       " 0.0056854887009425426,\n",
       " -0.005714279582028858,\n",
       " 0.0018869593218306946,\n",
       " -0.001604160713268854,\n",
       " 0.0040478800086010125,\n",
       " -0.00349214207561932,\n",
       " 0.0018675712133973121,\n",
       " -0.0029080868069462085,\n",
       " -0.0004099268205344231,\n",
       " 0.000878549427449471,\n",
       " 0.002110309240832109,\n",
       " -0.0052624252530630855,\n",
       " -0.0003183860590461052,\n",
       " -0.002550106898624449,\n",
       " -0.006982880548934922,\n",
       " -0.009829205447999811,\n",
       " -0.002627052921663875,\n",
       " -0.003022708649884187,\n",
       " -0.0014565167415181435,\n",
       " -3.2926738361638286e-05,\n",
       " -0.010818598575341731,\n",
       " -0.004505457764444998,\n",
       " -0.0007045879125788801,\n",
       " 0.00854998207341584,\n",
       " -0.00444213554137729,\n",
       " -0.0009600946327914528,\n",
       " 0.0007153193379245693,\n",
       " -0.011027353755880043,\n",
       " 0.0021306989489815464,\n",
       " -0.002948954800053194,\n",
       " 0.0012615557009967304,\n",
       " 0.0007934884027642752,\n",
       " 0.006078453055831545,\n",
       " -0.006747249109827713,\n",
       " -0.007164875302193785,\n",
       " 0.0028325239453899087,\n",
       " -0.007955215820207862,\n",
       " 0.006285113053359659,\n",
       " 0.00044004294750354944,\n",
       " -0.004318914930931506,\n",
       " 0.008755040874120823,\n",
       " -0.006861015845593066,\n",
       " -0.0027963982202479087,\n",
       " 0.00908101047373222,\n",
       " 0.00945360896812275,\n",
       " 0.009349531176394699,\n",
       " 0.003119707107721581,\n",
       " 0.005122926944133965,\n",
       " 0.005509748835589079,\n",
       " 0.005544975165109101,\n",
       " -0.007674778125220882,\n",
       " 0.004168756739509227,\n",
       " 0.006679797843113455,\n",
       " -0.0067441932087266565,\n",
       " -0.00011860098735816393,\n",
       " -0.015491773187133795,\n",
       " -2.5176264503379286e-05,\n",
       " -0.01042071479878004,\n",
       " 0.0023070622590255496,\n",
       " -0.006109928496676353,\n",
       " -0.002018223391069718,\n",
       " 0.003227218955543343,\n",
       " 0.0003749934759689211,\n",
       " -0.002023997919932796,\n",
       " 0.00035204866657334577,\n",
       " 0.0027468973916358053,\n",
       " 0.0019524857456119094,\n",
       " -0.007677350260498983,\n",
       " 0.0009667685572800622,\n",
       " 0.005970109948391311,\n",
       " -0.0010298148294278775,\n",
       " -0.006520707017639182,\n",
       " -0.0022240555357608827,\n",
       " 0.009529802087995698,\n",
       " -0.0026997302221811736,\n",
       " 0.005136445133254064,\n",
       " 0.0029001591794006742,\n",
       " 0.000286522242792131,\n",
       " 0.0005765262369399338,\n",
       " 0.006868316621620352,\n",
       " 0.0009600230899415862,\n",
       " 0.013394351877101585,\n",
       " -0.007395106960629505,\n",
       " -0.006969025086452696,\n",
       " -0.0035066277964288517,\n",
       " -0.00659827648540201,\n",
       " -0.01325012152062044,\n",
       " -0.0023915509410255,\n",
       " -0.006289998406987962,\n",
       " -0.0015713838741886477,\n",
       " -0.0027464783550188443,\n",
       " -0.0024248183595529937,\n",
       " 0.003320623237573095,\n",
       " -0.003962164878024588,\n",
       " 0.001021512453696971,\n",
       " -0.0024862770621050245,\n",
       " -0.004263677048292003,\n",
       " 0.001569244402731762,\n",
       " -0.0010575496020104325,\n",
       " 0.0010439632768566298,\n",
       " 0.004019777301470739,\n",
       " 0.0007652732711544985,\n",
       " 0.00014537844865802896,\n",
       " -0.0007816633940755935,\n",
       " -0.013537049172821725,\n",
       " 0.00612607673670329,\n",
       " 0.0017717072205556406,\n",
       " 0.011016469024475839,\n",
       " -0.00017712302682593162,\n",
       " 0.006052060563114914,\n",
       " -0.001573094088630711,\n",
       " -0.002947595486176624,\n",
       " -0.006044773414285665,\n",
       " 0.00041403201656908806,\n",
       " -0.000918742873831313,\n",
       " 0.0014882204380572972,\n",
       " -0.0067327702026585,\n",
       " 0.004066784351219432,\n",
       " -0.0007872914304858369,\n",
       " -0.0006205455216132805,\n",
       " 0.0065365827135410726,\n",
       " 0.006648506369566043,\n",
       " -0.0014163914311540182,\n",
       " -0.00045337376253939965,\n",
       " 0.0035338924303793817,\n",
       " -0.0010629425690744654,\n",
       " 0.0014776729800187738,\n",
       " 0.002907163563673265,\n",
       " 0.0014004612264448824,\n",
       " -0.0033544391511917127,\n",
       " 0.0071423393090030984,\n",
       " -0.0013090090417975375,\n",
       " 0.0034328977941795458,\n",
       " -0.002282584388848541,\n",
       " -0.004302214789024816,\n",
       " 0.007037914023500846,\n",
       " -0.010537442045189138,\n",
       " -0.0044194360216947,\n",
       " 0.0014217230757989086,\n",
       " -0.005639064214256528,\n",
       " -0.00818200660893087,\n",
       " 0.002137672672039237,\n",
       " 0.007581687268953807,\n",
       " -0.00868444853626027,\n",
       " -0.009154709814765738,\n",
       " -0.007593791635375879,\n",
       " 0.004254659244198322,\n",
       " -0.0026012770600631896,\n",
       " 0.0009098238669924541,\n",
       " -0.0008032557032136012,\n",
       " -0.006437744582801663,\n",
       " 0.01582514576683458,\n",
       " 0.008747327875096467,\n",
       " 0.006788529325951309,\n",
       " 0.005450967879180091,\n",
       " -0.0004037877638989329,\n",
       " -0.0016566799681729805,\n",
       " 0.0019175183330188972,\n",
       " 0.0010525620443351258,\n",
       " 0.0019678367940434427,\n",
       " 0.0004103594843503089,\n",
       " 0.00028772484381001107,\n",
       " 0.0060720653026749005,\n",
       " -0.0031540374483780553,\n",
       " -0.010701155900563641,\n",
       " 0.0036886600244834256,\n",
       " -0.002657976460627154,\n",
       " -0.0009458916765119341,\n",
       " -0.003151955892541025,\n",
       " 0.0008712997534301437,\n",
       " 0.003981471223235111,\n",
       " 0.00026138004631004463,\n",
       " -0.0002636387558228037,\n",
       " 0.005727951077239446,\n",
       " -0.006198174880944762,\n",
       " -0.004296341462923792,\n",
       " -0.011759274438443157,\n",
       " -0.007776048712369921,\n",
       " -0.0018881551092304605,\n",
       " -0.007522490682728922,\n",
       " 0.0002428504518956487,\n",
       " -0.0015496791406031107,\n",
       " -0.0025881370259197567,\n",
       " 0.003155430830279471,\n",
       " -0.0011778131085824484,\n",
       " -0.0034863573263494985,\n",
       " 0.007323356310175555,\n",
       " 0.0018272108337393789,\n",
       " -0.008630682391899569,\n",
       " 0.014253192956750205,\n",
       " -0.0029268685046837106,\n",
       " -0.00015306419327032472,\n",
       " 0.0015095708642718364,\n",
       " 0.005195832500362485,\n",
       " -0.002571457324831883,\n",
       " -0.004580693573039696,\n",
       " -0.010562236747911236,\n",
       " -0.01121155611664193,\n",
       " -0.013165946264364514,\n",
       " -0.005288316945928351,\n",
       " -0.014321124582526323,\n",
       " -0.0005773302421321347,\n",
       " 0.0012258558260684893,\n",
       " 0.007591509078237912,\n",
       " 0.005335371690918578,\n",
       " -0.0016585264546913336,\n",
       " -0.0030152511609902177,\n",
       " -0.010881655067856322,\n",
       " 0.0005679172490484774,\n",
       " 0.005703660581173331,\n",
       " -0.00048306403929032626,\n",
       " 0.007413421926542263,\n",
       " -0.003563173890928084,\n",
       " 0.0039799006876366505,\n",
       " -0.005223652443000937,\n",
       " 0.001132819478629088,\n",
       " 0.0026337404733984826,\n",
       " 0.00042619089182416303,\n",
       " -0.0096319822911628,\n",
       " -0.000385626104051795,\n",
       " 0.001250020270466834,\n",
       " 0.005531961182628997,\n",
       " 0.007211551892197576,\n",
       " -0.007985894069462596,\n",
       " -0.002040554976178832,\n",
       " -0.0018300861743707486,\n",
       " 0.001147056502897037,\n",
       " 0.00045146254678307685,\n",
       " -0.010626904657656588,\n",
       " -0.0055006288274555,\n",
       " 0.005193267178702499,\n",
       " -0.002652464255493925,\n",
       " 0.00717376364780975,\n",
       " -0.003326578326944052,\n",
       " -0.0015933713723095266,\n",
       " 0.0067009132000031,\n",
       " 0.00430288592896666,\n",
       " 0.0007367958157988852,\n",
       " -0.002509491008831688,\n",
       " -0.0069300069866873315,\n",
       " 0.0015534129952667897,\n",
       " 0.002990991326143444,\n",
       " -0.001157808369028679,\n",
       " 0.009240183062440899,\n",
       " 0.007214870117048022,\n",
       " -0.0027982617407635857,\n",
       " -0.005063352202936855,\n",
       " 0.0024102474687186515,\n",
       " 0.004701253471370848,\n",
       " -0.0002311276472779511,\n",
       " 0.005427893611313017,\n",
       " 0.0028741550620710044,\n",
       " -0.004144759228386086,\n",
       " -0.006429275273802659,\n",
       " -0.00031407645489167635,\n",
       " 0.014903503704757348,\n",
       " -0.0007417663394626572,\n",
       " 0.001546037269585021,\n",
       " 0.005399913549005042,\n",
       " 0.008707798755041907,\n",
       " 0.0027589131811875944,\n",
       " 0.0005747955816639561,\n",
       " -0.003222384703962078,\n",
       " -0.0032755205899528406,\n",
       " 0.0009868891280966352,\n",
       " 0.004013869907334211,\n",
       " 0.003493269726990711,\n",
       " 0.0012443752000690367,\n",
       " 0.0029071499364761166,\n",
       " -0.0006183174733127572,\n",
       " -0.004829567250330236,\n",
       " 0.007299430341873858,\n",
       " 0.0008495779858481711,\n",
       " 0.0047392904122700585,\n",
       " 0.006755043872104238,\n",
       " -0.0019564785171768406,\n",
       " 0.007146751117197425,\n",
       " -0.004905903455865612,\n",
       " -0.005054770469460124,\n",
       " 0.010584742079895904,\n",
       " 0.00568206145843142,\n",
       " 0.00304044105273249,\n",
       " 0.004680379997385131,\n",
       " -0.004406313021580566,\n",
       " -0.005644825115929564,\n",
       " 0.006197391316560719,\n",
       " 0.01730948245095565,\n",
       " 0.0020360682183389045,\n",
       " 0.001745716730442659,\n",
       " 0.0033766889730308947,\n",
       " -0.0003436713412039438,\n",
       " 0.007778171149810831,\n",
       " -0.0014943083926715062,\n",
       " 0.005945165346390446,\n",
       " 0.004877725799074639,\n",
       " 0.0007617063497775689,\n",
       " 0.004573150914100488,\n",
       " -0.009211787370335678,\n",
       " 0.0022838483122917808,\n",
       " -0.004323456197589337,\n",
       " -0.006247641641519586,\n",
       " -0.004695673130195033,\n",
       " 0.002221864962278275,\n",
       " 0.0005578637772769568,\n",
       " -0.002372762429682318,\n",
       " -0.007094436270381976,\n",
       " 0.004621837517103877,\n",
       " -0.00288871573251015,\n",
       " 0.00805589021703046,\n",
       " 0.003867837352736103,\n",
       " -0.00413766286045103,\n",
       " 0.005184910294146583,\n",
       " -0.0047160423975034504,\n",
       " -0.0019141455993345602,\n",
       " -0.003329641041649012,\n",
       " 0.0056213045570281395,\n",
       " -0.0004651715167973691,\n",
       " -0.0035480885730212464,\n",
       " -0.005487611438170781,\n",
       " -0.0028122432549100296,\n",
       " -0.0024470204861737344,\n",
       " 0.0055090197800300444,\n",
       " -0.002766854435945376,\n",
       " 0.003445789131792054,\n",
       " 0.008312286112467149,\n",
       " 0.008362447860608135,\n",
       " -0.001614599153668017,\n",
       " 0.0028342580074509627,\n",
       " -0.009559199379796546,\n",
       " 0.0027609913302457656,\n",
       " 0.004487967244558355,\n",
       " 0.00044459443456101866,\n",
       " -0.005386381732678913,\n",
       " -0.00011748355637664076,\n",
       " -0.008101013305461535,\n",
       " -0.0018628493862538065,\n",
       " -0.010721037995224059,\n",
       " -0.007639449591672509,\n",
       " -0.0009821911485499157,\n",
       " 0.0004486280877706861,\n",
       " -0.004907756756002968,\n",
       " 0.007804059435883026,\n",
       " -0.001209465703126078,\n",
       " 0.003534880402862761,\n",
       " -0.00010532468115531657,\n",
       " -0.0012323117152721608,\n",
       " -0.0013277737055297223,\n",
       " -0.0024875137310935713,\n",
       " -0.006262372652052761,\n",
       " 0.0044672266358443125,\n",
       " 0.0044259634537340276,\n",
       " 0.004748999797103082,\n",
       " -0.0016392712115340657,\n",
       " -0.0010570522089681234,\n",
       " -0.0021402107393004854,\n",
       " -0.006647947654086828,\n",
       " -0.0019904715844765164,\n",
       " 0.005505711775580124,\n",
       " -0.006538613167332841,\n",
       " 0.007236956412430828,\n",
       " -0.010501237963596033,\n",
       " 0.007425567174569991,\n",
       " 0.0003022412258157914,\n",
       " 0.0036227520389298107,\n",
       " 0.009904604783065096,\n",
       " 0.0023124211580984877,\n",
       " -0.006140753238402574,\n",
       " -0.004059354116728642,\n",
       " -0.0006167094629070391,\n",
       " -0.007415455787137759,\n",
       " -0.00035986386965181083,\n",
       " 0.003637118521679028,\n",
       " -0.010275700877891758,\n",
       " -0.009164163689467486,\n",
       " 0.005860492697114417,\n",
       " 0.004153300080214528,\n",
       " 0.012139408778183203,\n",
       " -0.00140692052243363,\n",
       " -0.00290711586846637,\n",
       " -0.012092463050845659,\n",
       " -0.0016542168505750965,\n",
       " -0.0001301330110798915,\n",
       " 0.007827024686103634,\n",
       " -0.006085276879630008,\n",
       " -0.0001411710485736961,\n",
       " -0.0001233671029323702,\n",
       " -0.002833719732781681,\n",
       " -0.0066154433591218975,\n",
       " -0.0003376617430115303,\n",
       " 0.002117695186912627,\n",
       " -0.009492068352437322,\n",
       " 0.008830034799794717,\n",
       " -0.00483081073294489,\n",
       " 0.004087995098560171,\n",
       " -0.008393224907083052,\n",
       " -0.0009573930390498475,\n",
       " 0.0002122641863069319,\n",
       " -0.007770751135720566,\n",
       " -0.004169567558295562,\n",
       " -0.00015318683814236067,\n",
       " -0.0006995628800865461,\n",
       " -0.007843407995427043,\n",
       " 0.0010186950286907859,\n",
       " 0.0005540617865786857,\n",
       " 0.0041793076043505906,\n",
       " -2.1653631580242916e-05,\n",
       " 0.003980752388081932,\n",
       " -0.004636163118211023,\n",
       " -0.001980557791551263,\n",
       " -0.005492156111650104,\n",
       " -0.001029569539695352,\n",
       " 0.0027921703793394315,\n",
       " 0.005338441219251422,\n",
       " 0.0027110476174225795,\n",
       " -0.003115612132093659,\n",
       " -0.01324693275422728,\n",
       " 0.010792757984493306,\n",
       " -0.00791665423183563,\n",
       " 0.00534640291480315,\n",
       " 0.008537209973844107,\n",
       " -0.011224464488254426,\n",
       " 0.009123479663634804,\n",
       " -0.0030112822370300663,\n",
       " -0.005542355334584137,\n",
       " -0.0002080601930076753,\n",
       " -0.010412885968488439,\n",
       " -0.0025286406411568763,\n",
       " -0.0038715814278083016,\n",
       " 0.0018284236551453503,\n",
       " -0.002934966472302847,\n",
       " 0.0002952368415352069,\n",
       " 0.0034769749944700834,\n",
       " 0.0031128287751105432,\n",
       " -0.0019096145530861364,\n",
       " 0.007223213374396131,\n",
       " 0.003037017217028648,\n",
       " 0.00011177034995757396,\n",
       " 0.005615904776345104,\n",
       " 0.005651253750722951,\n",
       " -0.0038330675346642806,\n",
       " -0.0016711759093901435,\n",
       " 0.006725592071481046,\n",
       " -0.003910388305892631,\n",
       " 0.0037312450456559176,\n",
       " 0.0037257260269161208,\n",
       " -0.0036281041243952927,\n",
       " 0.0055144229675159195,\n",
       " -0.00590733962719181,\n",
       " -0.0015738503986097996,\n",
       " 0.003011851172916913,\n",
       " -0.004678993429078737,\n",
       " -0.0012789372032413482,\n",
       " 0.014562448787251547,\n",
       " -0.005170499522981764,\n",
       " 0.00029867771124436615,\n",
       " -0.0031772207339040293,\n",
       " -0.006468412611652319,\n",
       " 0.0005792210170829648,\n",
       " -0.0005805156017189006,\n",
       " 0.0006569029092853285,\n",
       " -0.0025393039304608678,\n",
       " 0.004545518345554278,\n",
       " -8.49349730325244e-05,\n",
       " 0.0009148693403036035,\n",
       " -8.852233519540675e-05,\n",
       " 0.004441334942977271,\n",
       " -0.006326440964705249,\n",
       " 0.00537315652851067,\n",
       " -0.010887201341015285,\n",
       " -0.0010123958523760024,\n",
       " 0.007103794754642401,\n",
       " -0.00014054760385207032,\n",
       " -0.0026698730121470504,\n",
       " -0.0039014079766435117,\n",
       " -0.007023987018179412,\n",
       " 0.007747363442108579,\n",
       " 0.0035464124265880415,\n",
       " -0.008719903121469308,\n",
       " 0.0004906101050332623,\n",
       " 0.003252514458129241,\n",
       " 0.00013544421492905911,\n",
       " -0.0009101372927622364,\n",
       " -0.0016354555936342052,\n",
       " -0.0031233591991295384,\n",
       " 0.0014528816841048453,\n",
       " 0.0031943399124125804,\n",
       " -0.004006701996570605,\n",
       " 0.0037194575117860396,\n",
       " -0.0026902320590611595,\n",
       " -0.003689838777867216,\n",
       " 0.0011837647911505655,\n",
       " 0.00029021180902866206,\n",
       " -0.0018083780339770428,\n",
       " -0.012183520046495921,\n",
       " 0.009592146558962789,\n",
       " -0.0010510494243849422,\n",
       " -0.0032786003386968687,\n",
       " -0.008114872174762588,\n",
       " 0.0009630892114751433,\n",
       " 0.006058318857824041,\n",
       " -0.0034007103317996723,\n",
       " 0.003222687909285149,\n",
       " -0.0032740488516349586,\n",
       " -0.004248240829817895,\n",
       " -0.004988487735722025,\n",
       " 0.00663218438264046,\n",
       " 0.0015973198554846135,\n",
       " 0.007540839716662973,\n",
       " -0.007327342268145465,\n",
       " -0.0034414556800337337,\n",
       " -0.004902224110045594,\n",
       " -0.0069573567906546785,\n",
       " -0.005107664472544293,\n",
       " -0.011646863609784397,\n",
       " 0.00042212317061540716,\n",
       " -0.005044345656284754,\n",
       " -0.00899296168397079,\n",
       " 0.00048372836561760835,\n",
       " 0.002964830495939097,\n",
       " 0.010235963942961668,\n",
       " 0.006366242628865315,\n",
       " -0.001187031913958414,\n",
       " -0.0037395235737740506,\n",
       " -0.0007292599704529223,\n",
       " -0.0037892424376746447,\n",
       " -0.0010008229470193086,\n",
       " -0.00038318683404536813,\n",
       " 0.0044756959448584155,\n",
       " -0.004074705165164616,\n",
       " -0.010816898581289536,\n",
       " -0.0030767166771532573,\n",
       " 0.0016872832678007654,\n",
       " 0.008348357328802791,\n",
       " -0.005181915715454899,\n",
       " 0.0037578896416912144,\n",
       " -0.0024335193310669467,\n",
       " -0.0008637741285024703,\n",
       " -0.00785299814220064,\n",
       " -0.009106496757196325,\n",
       " 0.002943381272499934,\n",
       " 0.0023320852174704143,\n",
       " -0.004387882224414774,\n",
       " -0.003882636499294989,\n",
       " -0.002189292531300069,\n",
       " -0.0039030057666273876,\n",
       " -0.0031833631973592347,\n",
       " -0.0035768079113065454,\n",
       " 0.0042711140963804795,\n",
       " 0.0033109240731601375,\n",
       " -0.008079168893012856,\n",
       " 0.008449576813908344,\n",
       " -0.0039011797209163035,\n",
       " 0.014041136585341896,\n",
       " 0.00315272923654053,\n",
       " 0.0029994333807303875,\n",
       " -0.003462690274988134,\n",
       " 0.004206538170289598,\n",
       " 0.0003262728049566732,\n",
       " 0.0062486773092365056,\n",
       " 0.0027375559413975736,\n",
       " -0.008662828972699543,\n",
       " -0.0033553078856076723,\n",
       " -0.0022677171062701618,\n",
       " 0.0018090355467110797,\n",
       " -0.007904662289874409,\n",
       " -0.002942584080892985,\n",
       " -0.003190353954434677,\n",
       " -0.0012508310892735963,\n",
       " -0.0065182575272366705,\n",
       " -0.00020976700064512244,\n",
       " -0.0005305616684925241,\n",
       " 0.0038751994512216115,\n",
       " -0.0007781169135299137,\n",
       " 0.00467500747111238,\n",
       " 0.0008300706393358226,\n",
       " 0.004689983771362982,\n",
       " 0.0018734547599326135,\n",
       " 0.00019582296132103494,\n",
       " -0.006474943450501591,\n",
       " 0.005288729168934303,\n",
       " -0.004216329318348144,\n",
       " 0.008461980978877293,\n",
       " 0.0017789568945500989,\n",
       " -0.0076870664589261395,\n",
       " 0.001006914308448792,\n",
       " -0.0008456056550620872,\n",
       " -0.002474499748638337,\n",
       " 0.0009758579042040694,\n",
       " 0.0035070297990325017,\n",
       " -0.003973567443284587,\n",
       " 0.002655445206967144,\n",
       " -0.003443901763639623,\n",
       " 0.0030723355301827127,\n",
       " 0.003002751605584386,\n",
       " 0.00468727536400948,\n",
       " -0.002663519326978836,\n",
       " -0.0002097704074550677,\n",
       " -0.007283677290842228,\n",
       " -0.0036301993074392414,\n",
       " 0.008390196260407379,\n",
       " -0.0037907107692181086,\n",
       " -0.00209455618981913,\n",
       " -0.007139232305845233,\n",
       " -0.004587452667608183,\n",
       " -0.008247900967268684,\n",
       " -0.002452437300887844,\n",
       " 0.004168760146297856,\n",
       " -0.007957546072559829,\n",
       " 0.004750713418347985,\n",
       " -0.0032003154425721547,\n",
       " -0.003407816920106832,\n",
       " -0.0026723497569891563,\n",
       " 0.008290417852399479,\n",
       " -0.00403787763884722,\n",
       " 0.00952230712425628,\n",
       " -0.008182752698496998,\n",
       " 0.010969843536506652,\n",
       " 0.0023291315204048146,\n",
       " -0.0065020309307533,\n",
       " 0.004605774447113298,\n",
       " 0.005783795370592593,\n",
       " 0.0036216686760086603,\n",
       " 0.009274169316126901,\n",
       " 0.0008244187553358984,\n",
       " -0.006711784304205715,\n",
       " 0.0014172874199926966,\n",
       " 0.005353775233653657,\n",
       " -0.002679330293644533,\n",
       " 0.0008061276370598947,\n",
       " 4.463932258680359e-05,\n",
       " -0.0032118202118942563,\n",
       " -0.008048115895565644,\n",
       " 0.0011126886874244235,\n",
       " -0.0020594797595769876,\n",
       " 0.005812034349838235,\n",
       " -0.006477116989967335,\n",
       " 0.003728696757997696,\n",
       " 0.0031761612185832178,\n",
       " -0.003831466337873124,\n",
       " 0.005811414311926555,\n",
       " -0.0011220812396679491,\n",
       " -0.003586990841562887,\n",
       " 0.0028035797582113275,\n",
       " -0.0014239954125319088,\n",
       " -0.014462033307342637,\n",
       " -0.003842998361591299,\n",
       " 0.0034087299429685913,\n",
       " -0.009213494177974013,\n",
       " 0.011806921966948991,\n",
       " -0.00038182411337750466,\n",
       " 0.00011875429342556032,\n",
       " -0.002895699675992347,\n",
       " 0.0006666020737160494,\n",
       " 0.005640443968944808,\n",
       " 0.0025937207739135104,\n",
       " 0.004238098781163657,\n",
       " -0.0028572777665045734,\n",
       " -0.0010856454955767703,\n",
       " -0.005439503991496508,\n",
       " 0.001508490908144644,\n",
       " -0.0007378553311125913,\n",
       " -0.004539689307867967,\n",
       " -0.0036213620638427813,\n",
       " 0.0011571167883017708,\n",
       " 0.00530468322127664,\n",
       " 0.003094319621506969,\n",
       " -0.0012829912972582846,\n",
       " 0.01723917287760468,\n",
       " -0.004155446365281534,\n",
       " -0.010950397512438315,\n",
       " -0.0018268905943772396,\n",
       " -0.004300153674008378,\n",
       " 0.006293095189724873,\n",
       " -0.0026873056163942977,\n",
       " 0.008916799225318961,\n",
       " -0.00560213448389657,\n",
       " 0.0065945153763342645,\n",
       " -0.0017436896834466253,\n",
       " -0.002507399232590579,\n",
       " 0.0035839553812557767,\n",
       " -0.0006107100851204805,\n",
       " 0.0033090878070352048,\n",
       " 0.0016110901479233775,\n",
       " 0.0008835744599497986,\n",
       " -0.00527579694969571,\n",
       " 0.003280242417109669,\n",
       " -0.002804986767307227,\n",
       " -0.0003772998807196615,\n",
       " -0.007514515359983598,\n",
       " -0.003825323874425912,\n",
       " 0.003806106106058138,\n",
       " 0.00435136131025704,\n",
       " -0.003131320894694589,\n",
       " -0.006035564829331541,\n",
       " -0.0025399375955545977,\n",
       " -0.002513906223820861,\n",
       " -0.00854675923902004,\n",
       " 0.0016261822794287895,\n",
       " 0.002045651551501493,\n",
       " -0.0034412103903020963,\n",
       " 0.0008303057086589405,\n",
       " 0.0013516349445819031,\n",
       " 0.00653288292689691,\n",
       " -0.006830456834400422,\n",
       " 0.002941037392925061,\n",
       " 0.001006406695001516,\n",
       " -0.0058767703955933115,\n",
       " -0.0038934394674701167,\n",
       " 0.003684742202557878,\n",
       " 0.007735238634882791,\n",
       " -0.004295370524443065,\n",
       " 0.010531469921833292,\n",
       " -0.007309316880387051,\n",
       " 0.005662925453312262,\n",
       " 0.004150227145098384,\n",
       " 0.0017119485120682398,\n",
       " -0.003622830395364929,\n",
       " -0.007617836841736114,\n",
       " -0.006327796871757663,\n",
       " -0.0055358653773485145,\n",
       " -0.0088218857301543,\n",
       " -0.0026665445668951904,\n",
       " 0.0034265236682191613,\n",
       " 0.011004810949084565,\n",
       " -0.0028203480361144173,\n",
       " 0.00838431271387563,\n",
       " -0.004766991116830432,\n",
       " 0.0009806444605935383,\n",
       " -0.00313146057356839,\n",
       " 0.0012265746612136752,\n",
       " 0.011032436704014437,\n",
       " -0.00377880059049307,\n",
       " -0.0029170569158010196,\n",
       " -0.0002951755191178407,\n",
       " 0.001709362749563681,\n",
       " -0.006575917645891494,\n",
       " 0.0006770268868914187,\n",
       " 0.004010568716483753,\n",
       " 0.00035034526572808034,\n",
       " -0.007827086008533435,\n",
       " 0.001005544774166367,\n",
       " -0.005680518177259231,\n",
       " -0.012364407589200432,\n",
       " 0.009164579319284272,\n",
       " 0.0009045739855881862,\n",
       " -0.0004684590804302502,\n",
       " -0.005770375978722875,\n",
       " 0.0005870771017857379,\n",
       " -0.0022469764975641127,\n",
       " 0.0003624905137504797,\n",
       " -0.001407186252975201,\n",
       " 0.005282109753248498,\n",
       " -0.004614431130210761,\n",
       " -0.0011235631984334304,\n",
       " 0.0056214306086994625,\n",
       " 0.004833788277625928,\n",
       " 0.004157715295213471,\n",
       " -0.0022878342702767895,\n",
       " 0.0053200138288902465,\n",
       " -0.00039984609432242024,\n",
       " 0.012285553757227952,\n",
       " 0.006706186929028135,\n",
       " 0.003264407602843633,\n",
       " 0.013187082062090738,\n",
       " 0.007254992020604867,\n",
       " -0.009393652665128371,\n",
       " 0.008299626437377583,\n",
       " -0.005964018586983144,\n",
       " -0.001271575104781597,\n",
       " -0.005820687626125753,\n",
       " 0.008815184551230537,\n",
       " 0.007285936000375415,\n",
       " -0.003200915039681007,\n",
       " -0.0019177125207141543,\n",
       " -0.003141122263179419,\n",
       " -0.0013626355072293705,\n",
       " -0.005847185729694893,\n",
       " 0.008995816583784233,\n",
       " 0.006258342405648598,\n",
       " 0.004791199849659478,\n",
       " 0.004859332476720546,\n",
       " -0.00550208693858778,\n",
       " -0.004422853043778652,\n",
       " 0.0037512531920116388,\n",
       " -0.008508221498241042,\n",
       " 0.0011101165521330003,\n",
       " -0.005263869736987559,\n",
       " 0.0015883838146386609,\n",
       " -0.0037922029483468123,\n",
       " 0.005337569078015747,\n",
       " -0.008058918863742548,\n",
       " -0.000429822542432845,\n",
       " -0.004206643781129671,\n",
       " -0.0033271983648424097,\n",
       " -0.005553025437499137,\n",
       " -0.005100677122271691,\n",
       " -0.0006904871603747864,\n",
       " -0.004700970706827512,\n",
       " -0.004214864393611073,\n",
       " 0.00012144907357036772,\n",
       " 5.726833646235718e-05,\n",
       " 0.0019936024352356085,\n",
       " 0.007922500303545021,\n",
       " 0.001169769649790986,\n",
       " 0.0008757115616404576,\n",
       " -0.003998730080595259,\n",
       " -0.0053840480735072305,\n",
       " -0.004401032478943634,\n",
       " -0.007932880828308342,\n",
       " -0.00034059499927519,\n",
       " 0.004230610631036136,\n",
       " 0.0041486395754972705,\n",
       " -0.001251945113429187,\n",
       " -0.004204906312258672,\n",
       " 0.0011031257950566697,\n",
       " -0.002083531779533132,\n",
       " 0.004978730655677666,\n",
       " -0.0028801067446204698,\n",
       " -0.005678467282639765,\n",
       " -0.0024259153496863917,\n",
       " -0.0009446345666868083,\n",
       " -0.0032012931946701073,\n",
       " 0.006321310321338203,\n",
       " 0.0036508751869268607,\n",
       " -0.0013572527605667517,\n",
       " 0.00011655690633638471,\n",
       " 0.0028639687249993884,\n",
       " 0.0012053707274910508,\n",
       " -0.0035299303200071463,\n",
       " -0.004186254072994444,\n",
       " 9.667140484026504e-05,\n",
       " 0.004552764612761884,\n",
       " 0.004641971715098947,\n",
       " -0.005946848306414232,\n",
       " 0.0005468223329758715,\n",
       " -0.003894682950078554,\n",
       " -0.004402006824241411,\n",
       " 0.00038090087011521945,\n",
       " -0.005774784380114362,\n",
       " -0.0036629557057201723,\n",
       " 0.007884081800860088,\n",
       " 0.011992371217093734,\n",
       " 0.0027872645849083,\n",
       " 0.010099214922985489,\n",
       " -0.005359645152989145,\n",
       " -0.0042608630300691175,\n",
       " 0.0030462087679907768,\n",
       " 0.007141981594829261,\n",
       " 0.00129026481885397,\n",
       " 0.004000740093597521,\n",
       " -0.000952371413333708,\n",
       " -0.004894977842838877,\n",
       " 0.0012097723152706408,\n",
       " 0.005482753338981183,\n",
       " 0.004355173521360278,\n",
       " -0.002397812642524144,\n",
       " 0.006970537706409097,\n",
       " 0.01314868059339691,\n",
       " 0.008509734118224088,\n",
       " -0.0031077628609814667,\n",
       " -0.007699709100017493,\n",
       " 0.005004741586592587,\n",
       " 0.007463760828355426,\n",
       " 0.00039573749150090265,\n",
       " -0.00825783860778806,\n",
       " 0.010543731001110501,\n",
       " -0.005001770855520782,\n",
       " -0.007079814277517471,\n",
       " -0.002708782094275719,\n",
       " 0.001200434271815709,\n",
       " -0.0022633155184879072,\n",
       " -0.005941319067273909,\n",
       " 0.006526140866346175,\n",
       " -0.006354039465205297,\n",
       " -0.007748903316465494,\n",
       " 0.005434025854353486,\n",
       " 0.0037130901994490983,\n",
       " 0.004658654822990549,\n",
       " -0.0026877961958584606,\n",
       " -0.0020399451586676776,\n",
       " -0.004048322892839629,\n",
       " -0.000382205675156122,\n",
       " -0.001397487088568461,\n",
       " -0.007388719207451544,\n",
       " -0.01491388422949047,\n",
       " 0.005392190329569502,\n",
       " -0.000680283789297853,\n",
       " 0.0017607986415359989,\n",
       " 0.0010606634187713126,\n",
       " 0.0009862929378012808,\n",
       " -0.004429135186127198,\n",
       " -0.006518482376141499,\n",
       " -0.0001784823407140479,\n",
       " 0.003991892629605864,\n",
       " 0.0014999159882709279,\n",
       " -0.006606234774157116,\n",
       " 0.005851393129771232,\n",
       " 0.007633732978431951,\n",
       " -0.0010106583835014504,\n",
       " 0.01109968696942687,\n",
       " 0.00801526070004055,\n",
       " -0.0023506897615117595,\n",
       " 0.009264739289046808,\n",
       " -0.007100067713592395,\n",
       " -0.007844133644195672,\n",
       " 0.0035918012455571358,\n",
       " -0.005920942986356259,\n",
       " -0.0037823743254712383,\n",
       " 0.0010003936899973809,\n",
       " 0.0007564462479674461,\n",
       " 0.007657066163226034,\n",
       " 0.0050555540338450555,\n",
       " 0.002333042528742446,\n",
       " 0.0095450168643465,\n",
       " -0.007731365101348864,\n",
       " -0.006939443827367775,\n",
       " 0.005929834738771511,\n",
       " -0.0008087917559800317,\n",
       " 0.0033543710151473505,\n",
       " -0.0024192857135876267,\n",
       " 0.0008169408256240018,\n",
       " 0.0008592601162513702,\n",
       " 0.0060444633953551374,\n",
       " 0.006626788008765594,\n",
       " -0.00033629902233833775,\n",
       " 0.005858019359087585,\n",
       " -0.0002713790092805368,\n",
       " -0.0018454235955864817,\n",
       " -0.0023100636513344597,\n",
       " -0.002767685695566513,\n",
       " 0.007351823545112879,\n",
       " 0.0009513118980040147,\n",
       " -0.0038871879863444647,\n",
       " 0.005089182573370543,\n",
       " 0.004162859565782995,\n",
       " 0.008862920656553364,\n",
       " -0.0009945884999131849,\n",
       " 0.004209127339569463,\n",
       " -0.008805298012701357,\n",
       " -0.0005928073422367675,\n",
       " -0.005532151963532961,\n",
       " -0.004256468255901424,\n",
       " -0.0081691186781363,\n",
       " -0.003533367782928565,\n",
       " -0.008977137090111498,\n",
       " -0.012693794210901999,\n",
       " 0.005658973563362757,\n",
       " -0.008025525393537514,\n",
       " 0.00375825076266878,\n",
       " -0.002500653765245886,\n",
       " -0.0020843766663611873,\n",
       " 0.004095629741159179,\n",
       " -0.005813935345162946,\n",
       " 0.0016597869713415037,\n",
       " 0.0009779190192222842,\n",
       " -0.0005781921629743891,\n",
       " -0.002020914764410797,\n",
       " 0.0011496456721928894,\n",
       " -0.0022683405509802412,\n",
       " 0.005493086168513628,\n",
       " -0.00038304034157832234,\n",
       " 0.008536617190374685,\n",
       " -0.007161931825523382,\n",
       " 0.001796147615896082,\n",
       " -0.00045534289391380156,\n",
       " -0.007020447351234971,\n",
       " ...]"
      ]
     },
     "execution_count": 224,
     "metadata": {},
     "output_type": "execute_result"
    }
   ],
   "source": [
    "difference\n",
    "\n",
    "\n"
   ]
  },
  {
   "cell_type": "code",
   "execution_count": 226,
   "metadata": {
    "colab": {},
    "colab_type": "code",
    "id": "VlzpYTkYFcv_"
   },
   "outputs": [
    {
     "data": {
      "image/png": "[encoded data removed]",
      "text/plain": [
       "<Figure size 432x288 with 1 Axes>"
      ]
     },
     "metadata": {
      "needs_background": "light"
     },
     "output_type": "display_data"
    }
   ],
   "source": [
    "# Make a variable called 'histo', and assign to it the result of plotting a histogram of the difference list. \n",
    "histo=plt.hist(difference, bins = 50)"
   ]
  },
  {
   "cell_type": "code",
   "execution_count": 228,
   "metadata": {
    "colab": {},
    "colab_type": "code",
    "id": "KhqgDFd3FcwB"
   },
   "outputs": [
    {
     "name": "stdout",
     "output_type": "stream",
     "text": [
      "0.14206054745123442\n"
     ]
    }
   ],
   "source": [
    "# Now make a variable called obs_difference, and assign it the result of the mean of our 'apple' variable and the mean of our 'google variable'\n",
    "obs_difference = Google.groupby('platform').mean().Rating[0] - Google.groupby('platform').mean().Rating[1]\n",
    "\n",
    "\n",
    "# Make this difference absolute with the built-in abs() function. \n",
    "obs_difference= abs(obs_difference)\n",
    "\n",
    "# Print out this value; it should be 0.1420605474512291. \n",
    "print(obs_difference)"
   ]
  },
  {
   "cell_type": "markdown",
   "metadata": {
    "colab_type": "text",
    "id": "QUNuuSgDFcwE"
   },
   "source": [
    "## Stage 4 -  Evaluating and concluding\n",
    "### 4a. What is our conclusion?"
   ]
  },
  {
   "cell_type": "code",
   "execution_count": 241,
   "metadata": {
    "colab": {},
    "colab_type": "code",
    "id": "XMQHnqx1FcwF"
   },
   "outputs": [
    {
     "name": "stdout",
     "output_type": "stream",
     "text": [
      "p= 0.0       95%CI=  [-0.01012087  0.01002497]\n"
     ]
    }
   ],
   "source": [
    "'''\n",
    "What do we know? \n",
    "\n",
    "Recall: The p-value of our observed data is just the proportion of the data given the null that's at least as extreme as that observed data.\n",
    "\n",
    "As a result, we're going to count how many of the differences in our difference list are at least as extreme as our observed difference.\n",
    "\n",
    "If less than or equal to 5% of them are, then we will reject the Null.\n",
    "\n",
    "'''\n",
    "p=np.sum(difference>=obs_difference)/len(difference)\n",
    "print('p=', p, \"      95%CI= \", np.percentile(difference, [2.5, 97.5]))"
   ]
  },
  {
   "cell_type": "markdown",
   "metadata": {
    "colab_type": "text",
    "id": "4RTofY9wFcwI"
   },
   "source": [
    "### 4b. What is our decision?\n",
    "So actually, zero differences are at least as extreme as our observed difference!\n",
    "\n",
    "So the p-value of our observed data is 0. \n",
    "\n",
    "It doesn't matter which significance level we pick; our observed data is statistically significant, and we reject the Null.\n",
    "\n",
    "We conclude that platform does impact on ratings. Specifically, we should advise our client to integrate **only Google Play** into their operating system interface. "
   ]
  },
  {
   "cell_type": "markdown",
   "metadata": {
    "colab_type": "text",
    "id": "Cu_eh7fTFcwJ"
   },
   "source": [
    "### 4c. Other statistical tests, and next steps\n",
    "The test we used here is the Permutation test. This was appropriate because our data were not normally distributed! \n",
    "\n",
    "As we've seen in Professor Spiegelhalter's book, there are actually many different statistical tests, all with different assumptions. How many of these different statistical tests can you remember? How much do you remember about what the appropriate conditions are under which to use them? \n",
    "\n",
    "Make a note of your answers to these questions, and discuss them with your mentor at your next call. \n"
   ]
  }
 ],
 "metadata": {
  "colab": {
   "collapsed_sections": [
    "5fbRq2MZFcvq",
    "4RTofY9wFcwI",
    "Cu_eh7fTFcwJ"
   ],
   "name": "Springboard Apps project - Tier 3 - Complete.ipynb",
   "provenance": []
  },
  "kernelspec": {
   "display_name": "Python 3",
   "language": "python",
   "name": "python3"
  },
  "language_info": {
   "codemirror_mode": {
    "name": "ipython",
    "version": 3
   },
   "file_extension": ".py",
   "mimetype": "text/x-python",
   "name": "python",
   "nbconvert_exporter": "python",
   "pygments_lexer": "ipython3",
   "version": "3.8.5"
  }
 },
 "nbformat": 4,
 "nbformat_minor": 1
}
